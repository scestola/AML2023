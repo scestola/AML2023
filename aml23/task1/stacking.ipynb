{
 "cells": [
  {
   "cell_type": "code",
   "execution_count": 45,
   "metadata": {},
   "outputs": [],
   "source": [
    "import os\n",
    "import pandas as pd \n",
    "import numpy as np\n",
    "\n",
    "from sklearn.ensemble import RandomForestRegressor\n",
    "from sklearn.model_selection import cross_val_score, RepeatedKFold\n",
    "from sklearn.linear_model import Ridge, Lasso, LinearRegression, BayesianRidge\n",
    "from sklearn.compose import TransformedTargetRegressor\n",
    "from sklearn.metrics import r2_score\n",
    "from sklearn.preprocessing import MinMaxScaler, StandardScaler, QuantileTransformer\n",
    "from sklearn.pipeline import Pipeline"
   ]
  },
  {
   "cell_type": "code",
   "execution_count": 70,
   "metadata": {},
   "outputs": [
    {
     "data": {
      "text/html": [
       "<div>\n",
       "<style scoped>\n",
       "    .dataframe tbody tr th:only-of-type {\n",
       "        vertical-align: middle;\n",
       "    }\n",
       "\n",
       "    .dataframe tbody tr th {\n",
       "        vertical-align: top;\n",
       "    }\n",
       "\n",
       "    .dataframe thead th {\n",
       "        text-align: right;\n",
       "    }\n",
       "</style>\n",
       "<table border=\"1\" class=\"dataframe\">\n",
       "  <thead>\n",
       "    <tr style=\"text-align: right;\">\n",
       "      <th></th>\n",
       "      <th>name</th>\n",
       "      <th>cv</th>\n",
       "    </tr>\n",
       "  </thead>\n",
       "  <tbody>\n",
       "    <tr>\n",
       "      <th>0</th>\n",
       "      <td>2022_11_14-02:29:06</td>\n",
       "      <td>0.648379</td>\n",
       "    </tr>\n",
       "    <tr>\n",
       "      <th>1</th>\n",
       "      <td>2022_11_14-01:09:17</td>\n",
       "      <td>0.646750</td>\n",
       "    </tr>\n",
       "    <tr>\n",
       "      <th>2</th>\n",
       "      <td>2022_11_13-11:44:32</td>\n",
       "      <td>0.645505</td>\n",
       "    </tr>\n",
       "    <tr>\n",
       "      <th>3</th>\n",
       "      <td>2022_11_14-01:55:20</td>\n",
       "      <td>0.644720</td>\n",
       "    </tr>\n",
       "    <tr>\n",
       "      <th>4</th>\n",
       "      <td>2022_11_13-11:54:25</td>\n",
       "      <td>0.643482</td>\n",
       "    </tr>\n",
       "  </tbody>\n",
       "</table>\n",
       "</div>"
      ],
      "text/plain": [
       "                  name        cv\n",
       "0  2022_11_14-02:29:06  0.648379\n",
       "1  2022_11_14-01:09:17  0.646750\n",
       "2  2022_11_13-11:44:32  0.645505\n",
       "3  2022_11_14-01:55:20  0.644720\n",
       "4  2022_11_13-11:54:25  0.643482"
      ]
     },
     "execution_count": 70,
     "metadata": {},
     "output_type": "execute_result"
    }
   ],
   "source": [
    "base_dir = \"submissions\"\n",
    "\n",
    "cv_df = pd.DataFrame()\n",
    "name = []\n",
    "cv = []\n",
    "\n",
    "for filename in os.listdir(base_dir):\n",
    "    if \"oof\" in filename:\n",
    "        oof_df = pd.read_csv(os.path.join(base_dir, filename))\n",
    "        cv_score = r2_score(oof_df[\"y\"], oof_df[\"y_pred\"])\n",
    "        trimmed_name = filename[:-8]\n",
    "        name.append(trimmed_name)\n",
    "        cv.append(cv_score)\n",
    "\n",
    "cv_df[\"name\"] = name\n",
    "cv_df[\"cv\"] = cv\n",
    "cv_df = cv_df.sort_values(by=[\"cv\"], ignore_index=True, ascending=False)\n",
    "cv_df = cv_df[:5]\n",
    "cv_df"
   ]
  },
  {
   "cell_type": "code",
   "execution_count": 71,
   "metadata": {},
   "outputs": [
    {
     "data": {
      "text/plain": [
       "(1111, 5)"
      ]
     },
     "execution_count": 71,
     "metadata": {},
     "output_type": "execute_result"
    }
   ],
   "source": [
    "oof = [pd.read_csv(os.path.join(base_dir, f\"{name}.oof.csv\")) for name in cv_df[\"name\"]]\n",
    "num_oof = len(oof)\n",
    "num_pred = len(oof[0])\n",
    "oof_preds = np.zeros((num_pred, num_oof))\n",
    "oof_target = oof[0][\"y\"]\n",
    "oof_cvs = [r2_score(oof_target, df[\"y_pred\"]) for df in oof]\n",
    "\n",
    "for i in range(num_oof):\n",
    "    oof_preds[:, i] = oof[i][\"y_pred\"]\n",
    "\n",
    "oof_preds.shape"
   ]
  },
  {
   "cell_type": "code",
   "execution_count": 72,
   "metadata": {},
   "outputs": [
    {
     "name": "stdout",
     "output_type": "stream",
     "text": [
      "0.1 0.6421598921388447\n",
      "101.1090909090909 0.6555205693967701\n",
      "202.1181818181818 0.6564331126483673\n",
      "303.1272727272727 0.6568907834984585\n",
      "404.1363636363636 0.657184598398802\n",
      "505.1454545454545 0.6573940289083916\n",
      "606.1545454545454 0.6575521963598469\n",
      "707.1636363636363 0.6576760015878664\n",
      "808.1727272727272 0.6577751993672131\n",
      "909.1818181818181 0.6578559183740176\n",
      "1010.190909090909 0.6579222585943313\n",
      "1111.1999999999998 0.6579770994958238\n",
      "1212.2090909090907 0.6580225433152764\n",
      "1313.2181818181816 0.6580601740434268\n",
      "1414.2272727272725 0.6580912166656402\n",
      "1515.2363636363634 0.6581166393254559\n",
      "1616.2454545454543 0.6581372212793564\n",
      "1717.2545454545452 0.6581535995280653\n",
      "1818.2636363636361 0.6581663016984763\n",
      "1919.272727272727 0.6581757697934632\n",
      "2020.281818181818 0.6581823777152267\n",
      "2121.290909090909 0.6581864444428117\n",
      "2222.2999999999997 0.658188244111902\n",
      "2323.3090909090906 0.6581880138441145\n",
      "2424.3181818181815 0.6581859599127753\n",
      "2525.3272727272724 0.6581822626595156\n",
      "2626.3363636363633 0.6581770804591962\n",
      "2727.3454545454542 0.6581705529501652\n",
      "2828.354545454545 0.6581628036904579\n",
      "2929.363636363636 0.6581539423603957\n",
      "3030.372727272727 0.6581440666030801\n",
      "3131.381818181818 0.6581332635730739\n",
      "3232.3909090909087 0.6581216112478582\n",
      "3333.3999999999996 0.6581091795448918\n",
      "3434.4090909090905 0.6580960312781794\n",
      "3535.4181818181814 0.658082222981429\n",
      "3636.4272727272723 0.6580678056196083\n",
      "3737.4363636363632 0.6580528252065888\n",
      "3838.445454545454 0.6580373233433392\n",
      "3939.454545454545 0.6580213376885542\n",
      "4040.463636363636 0.6580049023715635\n",
      "4141.472727272727 0.657988048355709\n",
      "4242.481818181818 0.6579708037590507\n",
      "4343.49090909091 0.6579531941381616\n",
      "4444.5 0.6579352427398942\n",
      "4545.50909090909 0.6579169707252474\n",
      "4646.518181818182 0.6578983973688688\n",
      "4747.527272727273 0.6578795402372077\n",
      "4848.536363636364 0.6578604153479115\n",
      "4949.545454545454 0.6578410373127054\n",
      "5050.554545454545 0.6578214194656843\n",
      "5151.563636363637 0.6578015739786987\n",
      "5252.572727272727 0.6577815119652903\n",
      "5353.581818181818 0.657761243574455\n",
      "5454.590909090909 0.6577407780753424\n",
      "5555.6 0.6577201239338754\n",
      "5656.609090909091 0.6576992888821431\n",
      "5757.618181818181 0.6576782799813259\n",
      "5858.627272727273 0.6576571036788232\n",
      "5959.636363636364 0.6576357658601708\n",
      "6060.645454545454 0.6576142718962752\n",
      "6161.654545454545 0.6575926266864294\n",
      "6262.663636363636 0.6575708346975232\n",
      "6363.672727272728 0.6575488999998196\n",
      "6464.681818181818 0.657526826299623\n",
      "6565.6909090909085 0.6575046169691371\n",
      "6666.7 0.657482275073775\n",
      "6767.709090909091 0.6574598033971567\n",
      "6868.718181818182 0.6574372044640093\n",
      "6969.727272727272 0.657414480561156\n",
      "7070.736363636363 0.6573916337567713\n",
      "7171.745454545455 0.6573686659180538\n",
      "7272.754545454545 0.6573455787274559\n",
      "7373.763636363636 0.6573223736975996\n",
      "7474.772727272727 0.6572990521849897\n",
      "7575.781818181818 0.657275615402629\n",
      "7676.790909090909 0.6572520644316306\n",
      "7777.799999999999 0.6572284002319085\n",
      "7878.809090909091 0.6572046236520279\n",
      "7979.818181818182 0.6571807354382833\n",
      "8080.827272727272 0.6571567362430668\n",
      "8181.836363636363 0.6571326266325898\n",
      "8282.845454545453 0.6571084070940036\n",
      "8383.854545454546 0.6570840780419749\n",
      "8484.863636363636 0.6570596398247537\n",
      "8585.872727272726 0.6570350927297797\n",
      "8686.881818181819 0.6570104369888585\n",
      "8787.89090909091 0.6569856727829473\n",
      "8888.9 0.6569608002465738\n",
      "8989.90909090909 0.6569358194719243\n",
      "9090.91818181818 0.6569107305126203\n",
      "9191.927272727273 0.6568855333872113\n",
      "9292.936363636363 0.6568602280824056\n",
      "9393.945454545454 0.6568348145560554\n",
      "9494.954545454546 0.6568092927399203\n",
      "9595.963636363636 0.65678366254222\n",
      "9696.972727272727 0.6567579238499991\n",
      "9797.981818181817 0.6567320765313093\n",
      "9898.990909090908 0.6567061204372312\n",
      "10000.0 0.656680055403742\n",
      "Best alpha = 2222.2999999999997 (CV:0.658188244111902)\n"
     ]
    }
   ],
   "source": [
    "best_cv = 0\n",
    "best_alpha = 0\n",
    "\n",
    "for alpha in np.linspace(0.1, 10000, num=100):\n",
    "    model = Ridge(alpha=alpha)\n",
    "    scores = cross_val_score(model, oof_preds, oof_target, scoring=\"r2\", cv=5)\n",
    "    cv = np.mean(scores)\n",
    "    print(alpha, cv)\n",
    "    if best_cv < cv:\n",
    "        best_cv = cv\n",
    "        best_alpha = alpha\n",
    "\n",
    "print(\"Best alpha =\", best_alpha, f\"(CV:{best_cv})\")"
   ]
  },
  {
   "cell_type": "code",
   "execution_count": 73,
   "metadata": {},
   "outputs": [
    {
     "data": {
      "text/plain": [
       "(776, 5)"
      ]
     },
     "execution_count": 73,
     "metadata": {},
     "output_type": "execute_result"
    }
   ],
   "source": [
    "subs = [pd.read_csv(os.path.join(base_dir, f\"{name}.csv\")) for name in cv_df[\"name\"]]\n",
    "num_test = len(subs[0])\n",
    "num_sub = len(subs)\n",
    "sub_pred = np.zeros((num_test, num_sub))\n",
    "\n",
    "for i in range(num_sub):\n",
    "    sub_pred[:, i] = subs[i][\"y\"]\n",
    "\n",
    "sub_pred.shape"
   ]
  },
  {
   "cell_type": "code",
   "execution_count": 78,
   "metadata": {},
   "outputs": [
    {
     "data": {
      "text/plain": [
       "0.6625737073294304"
      ]
     },
     "execution_count": 78,
     "metadata": {},
     "output_type": "execute_result"
    }
   ],
   "source": [
    "model = Ridge(alpha=2222)\n",
    "model = model.fit(oof_preds, oof_target)\n",
    "r2_score(oof_target, model.predict(oof_preds))"
   ]
  },
  {
   "cell_type": "code",
   "execution_count": 76,
   "metadata": {},
   "outputs": [],
   "source": [
    "def round_to_nearest_int(x):\n",
    "    decimal = x % 1\n",
    "    mask = abs(x - np.round(x)) <= 0.2\n",
    "    x[mask] = np.round(x[mask])\n",
    "    return x"
   ]
  },
  {
   "cell_type": "code",
   "execution_count": 77,
   "metadata": {},
   "outputs": [],
   "source": [
    "sub = pd.DataFrame()\n",
    "sub[\"id\"] = subs[0].id\n",
    "sub[\"y\"] = round_to_nearest_int(model.predict(sub_pred))\n",
    "sub.to_csv(\"submissions/stacking.csv\", index=False)"
   ]
  },
  {
   "cell_type": "code",
   "execution_count": null,
   "metadata": {},
   "outputs": [],
   "source": []
  }
 ],
 "metadata": {
  "kernelspec": {
   "display_name": "Python 3.9.12 ('base')",
   "language": "python",
   "name": "python3"
  },
  "language_info": {
   "codemirror_mode": {
    "name": "ipython",
    "version": 3
   },
   "file_extension": ".py",
   "mimetype": "text/x-python",
   "name": "python",
   "nbconvert_exporter": "python",
   "pygments_lexer": "ipython3",
   "version": "3.9.12"
  },
  "orig_nbformat": 4,
  "vscode": {
   "interpreter": {
    "hash": "40a2a61b844a78677911c3db6913e873dff55901a7bd176292f88bd2828d7d3a"
   }
  }
 },
 "nbformat": 4,
 "nbformat_minor": 2
}
