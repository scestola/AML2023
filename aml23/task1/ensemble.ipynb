{
 "cells": [
  {
   "cell_type": "code",
   "execution_count": 1,
   "metadata": {},
   "outputs": [],
   "source": [
    "import os\n",
    "import pandas as pd \n",
    "import numpy as np\n",
    "\n",
    "from sklearn.metrics import r2_score"
   ]
  },
  {
   "cell_type": "code",
   "execution_count": 2,
   "metadata": {},
   "outputs": [
    {
     "data": {
      "text/html": [
       "<div>\n",
       "<style scoped>\n",
       "    .dataframe tbody tr th:only-of-type {\n",
       "        vertical-align: middle;\n",
       "    }\n",
       "\n",
       "    .dataframe tbody tr th {\n",
       "        vertical-align: top;\n",
       "    }\n",
       "\n",
       "    .dataframe thead th {\n",
       "        text-align: right;\n",
       "    }\n",
       "</style>\n",
       "<table border=\"1\" class=\"dataframe\">\n",
       "  <thead>\n",
       "    <tr style=\"text-align: right;\">\n",
       "      <th></th>\n",
       "      <th>name</th>\n",
       "      <th>cv</th>\n",
       "    </tr>\n",
       "  </thead>\n",
       "  <tbody>\n",
       "    <tr>\n",
       "      <th>0</th>\n",
       "      <td>2022_11_14-02:29:06</td>\n",
       "      <td>0.648379</td>\n",
       "    </tr>\n",
       "    <tr>\n",
       "      <th>1</th>\n",
       "      <td>2022_11_14-01:09:17</td>\n",
       "      <td>0.646750</td>\n",
       "    </tr>\n",
       "    <tr>\n",
       "      <th>2</th>\n",
       "      <td>2022_11_13-11:44:32</td>\n",
       "      <td>0.645505</td>\n",
       "    </tr>\n",
       "    <tr>\n",
       "      <th>3</th>\n",
       "      <td>2022_11_14-01:55:20</td>\n",
       "      <td>0.644720</td>\n",
       "    </tr>\n",
       "    <tr>\n",
       "      <th>4</th>\n",
       "      <td>2022_11_13-11:54:25</td>\n",
       "      <td>0.643482</td>\n",
       "    </tr>\n",
       "    <tr>\n",
       "      <th>5</th>\n",
       "      <td>2022_11_14-12:18:48</td>\n",
       "      <td>0.643482</td>\n",
       "    </tr>\n",
       "    <tr>\n",
       "      <th>6</th>\n",
       "      <td>2022_11_14-12:24:47</td>\n",
       "      <td>0.630456</td>\n",
       "    </tr>\n",
       "    <tr>\n",
       "      <th>7</th>\n",
       "      <td>2022_11_14-12:46:47</td>\n",
       "      <td>0.571927</td>\n",
       "    </tr>\n",
       "  </tbody>\n",
       "</table>\n",
       "</div>"
      ],
      "text/plain": [
       "                  name        cv\n",
       "0  2022_11_14-02:29:06  0.648379\n",
       "1  2022_11_14-01:09:17  0.646750\n",
       "2  2022_11_13-11:44:32  0.645505\n",
       "3  2022_11_14-01:55:20  0.644720\n",
       "4  2022_11_13-11:54:25  0.643482\n",
       "5  2022_11_14-12:18:48  0.643482\n",
       "6  2022_11_14-12:24:47  0.630456\n",
       "7  2022_11_14-12:46:47  0.571927"
      ]
     },
     "execution_count": 2,
     "metadata": {},
     "output_type": "execute_result"
    }
   ],
   "source": [
    "base_dir = \"submissions\"\n",
    "\n",
    "cv_df = pd.DataFrame()\n",
    "name = []\n",
    "cv = []\n",
    "\n",
    "for filename in os.listdir(base_dir):\n",
    "    if \"oof\" in filename:\n",
    "        oof_df = pd.read_csv(os.path.join(base_dir, filename))\n",
    "        cv_score = r2_score(oof_df[\"y\"], oof_df[\"y_pred\"])\n",
    "        trimmed_name = filename[:-8]\n",
    "        # if len(oof_df) != 1118:\n",
    "        #     continue\n",
    "        name.append(trimmed_name)\n",
    "        cv.append(cv_score)\n",
    "\n",
    "cv_df[\"name\"] = name\n",
    "cv_df[\"cv\"] = cv\n",
    "cv_df = cv_df.sort_values(by=[\"cv\"], ignore_index=True, ascending=False)\n",
    "cv_df"
   ]
  },
  {
   "cell_type": "code",
   "execution_count": 3,
   "metadata": {},
   "outputs": [],
   "source": [
    "oof = [pd.read_csv(os.path.join(base_dir, f\"{name}.oof.csv\")) for name in cv_df[\"name\"]]\n",
    "num_oof = len(oof)\n",
    "num_pred = len(oof[0])\n",
    "oof_preds = np.zeros((num_oof, num_pred))\n",
    "oof_target = oof[0][\"y\"]\n",
    "oof_cvs = [r2_score(oof_target, df[\"y_pred\"]) for df in oof]\n",
    "\n",
    "for i in range(num_oof):\n",
    "    oof_preds[i, :] = oof[i][\"y_pred\"]"
   ]
  },
  {
   "cell_type": "markdown",
   "metadata": {},
   "source": [
    "## Naive ensemble (average of predictions)"
   ]
  },
  {
   "cell_type": "code",
   "execution_count": 4,
   "metadata": {},
   "outputs": [
    {
     "data": {
      "text/plain": [
       "(776, 8)"
      ]
     },
     "execution_count": 4,
     "metadata": {},
     "output_type": "execute_result"
    }
   ],
   "source": [
    "subs = [pd.read_csv(os.path.join(base_dir, f\"{name}.csv\")) for name in cv_df[\"name\"]]\n",
    "num_test = len(subs[0])\n",
    "num_sub = len(subs)\n",
    "sub_pred = np.zeros((num_test, num_sub))\n",
    "\n",
    "for i in range(num_sub):\n",
    "    sub_pred[:, i] = subs[i][\"y\"]\n",
    "\n",
    "sub_pred.shape"
   ]
  },
  {
   "cell_type": "code",
   "execution_count": 5,
   "metadata": {},
   "outputs": [
    {
     "data": {
      "text/plain": [
       "(776,)"
      ]
     },
     "execution_count": 5,
     "metadata": {},
     "output_type": "execute_result"
    }
   ],
   "source": [
    "np.mean(sub_pred, axis=1).shape"
   ]
  },
  {
   "cell_type": "code",
   "execution_count": 6,
   "metadata": {},
   "outputs": [],
   "source": [
    "sub = pd.DataFrame()\n",
    "sub[\"id\"] = subs[0].id\n",
    "sub[\"y\"] = np.mean(sub_pred, axis=1)\n",
    "sub.to_csv(\"submissions/avg_ensemble.csv\", index=False)"
   ]
  },
  {
   "cell_type": "markdown",
   "metadata": {},
   "source": [
    "## Ensemble using hill climbing"
   ]
  },
  {
   "cell_type": "code",
   "execution_count": 7,
   "metadata": {},
   "outputs": [
    {
     "name": "stdout",
     "output_type": "stream",
     "text": [
      "Added model 1 to the ensemble, CV improved from 0.6483792867801517 to 0.6635961409709288! (delta: 0.015216854190777118)\n",
      "Added model 7 to the ensemble, CV improved from 0.6635961409709288 to 0.6639761975679256! (delta: 0.00038005659699680283)\n",
      "Can no longer improve. Stop!\n"
     ]
    }
   ],
   "source": [
    "models = [0]\n",
    "weights = []\n",
    "cur_best_cv = oof_cvs[0]\n",
    "\n",
    "for i in range(num_oof):\n",
    "    \n",
    "    y_ensemble = oof_preds[models[0], :]\n",
    "    for k, j in enumerate(models[1:]):\n",
    "        y_ensemble = weights[k] * oof_preds[j, :] + (1 - weights[k]) * y_ensemble\n",
    "    \n",
    "    best_r2 = 0\n",
    "    best_model = 0\n",
    "    best_weight = 0\n",
    "    for j in range(num_oof):\n",
    "        # If model is already in the pool, skip\n",
    "        if j in models:\n",
    "            continue\n",
    "        \n",
    "        j_best_r2 = 0\n",
    "        j_best_weight = 0\n",
    "        for weight in np.linspace(0, 1.0, num=200, endpoint=False):\n",
    "            ensembled = weight * oof_preds[j, :] + (1 - weight) * y_ensemble\n",
    "            score = r2_score(oof_target, ensembled)\n",
    "            if score > j_best_r2:\n",
    "                j_best_r2 = score\n",
    "                j_best_weight = weight\n",
    "        \n",
    "        if j_best_r2 > best_r2:\n",
    "            best_r2 = j_best_r2\n",
    "            best_model = j\n",
    "            best_weight = j_best_weight\n",
    "        \n",
    "    # print(best_r2, best_model, best_weight)\n",
    "    # break\n",
    "\n",
    "    improvement = best_r2 - cur_best_cv\n",
    "    if improvement < 0.0001:\n",
    "        print(\"Can no longer improve. Stop!\")\n",
    "        break\n",
    "\n",
    "    print(f\"Added model {best_model} to the ensemble, CV improved from {cur_best_cv} to {best_r2}! (delta: {improvement})\")\n",
    "    models.append(best_model)\n",
    "    weights.append(best_weight)\n",
    "    cur_best_cv = best_r2\n",
    "    "
   ]
  },
  {
   "cell_type": "code",
   "execution_count": 8,
   "metadata": {},
   "outputs": [
    {
     "name": "stdout",
     "output_type": "stream",
     "text": [
      "Models used in the ensemble [0, 1, 7]\n",
      "Weights [0.485, 0.06]\n"
     ]
    }
   ],
   "source": [
    "print(\"Models used in the ensemble\", models)\n",
    "print(\"Weights\", weights)"
   ]
  },
  {
   "cell_type": "markdown",
   "metadata": {},
   "source": [
    "## Combine submissions accordingly"
   ]
  },
  {
   "cell_type": "code",
   "execution_count": 9,
   "metadata": {},
   "outputs": [],
   "source": [
    "preds = []\n",
    "\n",
    "for model_id in models:\n",
    "    name = cv_df.loc[model_id, \"name\"]\n",
    "    sub_df = pd.read_csv(os.path.join(base_dir, name + \".csv\"))\n",
    "    preds.append(sub_df[\"y\"])\n",
    "\n",
    "ensemble_pred = preds[0]\n",
    "for i in range(len(models)-1):\n",
    "    ensemble_pred = weights[i] * preds[i+1] + (1 - weights[i]) * ensemble_pred"
   ]
  },
  {
   "cell_type": "code",
   "execution_count": 42,
   "metadata": {},
   "outputs": [],
   "source": [
    "def round_to_nearest_int(x):\n",
    "    decimal = x % 1\n",
    "    mask = abs(x - np.round(x)) <= 0.4\n",
    "    x[mask] = np.round(x[mask])\n",
    "    return x"
   ]
  },
  {
   "cell_type": "code",
   "execution_count": 43,
   "metadata": {},
   "outputs": [],
   "source": [
    "sub = pd.DataFrame()\n",
    "sub[\"id\"] = pd.read_csv(os.path.join(base_dir, cv_df[\"name\"][0] + \".csv\")).id\n",
    "sub[\"y\"] = round_to_nearest_int(ensemble_pred)\n",
    "sub.to_csv(\"submissions/hc_ensemble.csv\", index=False)"
   ]
  },
  {
   "cell_type": "code",
   "execution_count": null,
   "metadata": {},
   "outputs": [],
   "source": []
  }
 ],
 "metadata": {
  "kernelspec": {
   "display_name": "Python 3.9.12 ('base')",
   "language": "python",
   "name": "python3"
  },
  "language_info": {
   "codemirror_mode": {
    "name": "ipython",
    "version": 3
   },
   "file_extension": ".py",
   "mimetype": "text/x-python",
   "name": "python",
   "nbconvert_exporter": "python",
   "pygments_lexer": "ipython3",
   "version": "3.9.12"
  },
  "orig_nbformat": 4,
  "vscode": {
   "interpreter": {
    "hash": "40a2a61b844a78677911c3db6913e873dff55901a7bd176292f88bd2828d7d3a"
   }
  }
 },
 "nbformat": 4,
 "nbformat_minor": 2
}
