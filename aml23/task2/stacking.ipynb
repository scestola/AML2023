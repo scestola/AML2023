{
 "cells": [
  {
   "cell_type": "code",
   "execution_count": 43,
   "metadata": {},
   "outputs": [],
   "source": [
    "import os\n",
    "import pandas as pd \n",
    "import numpy as np\n",
    "\n",
    "from sklearn.metrics import f1_score\n",
    "from sklearn.linear_model import RidgeClassifier, LogisticRegression\n",
    "from sklearn.tree import DecisionTreeClassifier\n",
    "from sklearn.ensemble import RandomForestClassifier, VotingClassifier, AdaBoostClassifier, GradientBoostingClassifier"
   ]
  },
  {
   "cell_type": "code",
   "execution_count": 44,
   "metadata": {},
   "outputs": [
    {
     "data": {
      "text/html": [
       "<div>\n",
       "<style scoped>\n",
       "    .dataframe tbody tr th:only-of-type {\n",
       "        vertical-align: middle;\n",
       "    }\n",
       "\n",
       "    .dataframe tbody tr th {\n",
       "        vertical-align: top;\n",
       "    }\n",
       "\n",
       "    .dataframe thead th {\n",
       "        text-align: right;\n",
       "    }\n",
       "</style>\n",
       "<table border=\"1\" class=\"dataframe\">\n",
       "  <thead>\n",
       "    <tr style=\"text-align: right;\">\n",
       "      <th></th>\n",
       "      <th>name</th>\n",
       "      <th>cv</th>\n",
       "    </tr>\n",
       "  </thead>\n",
       "  <tbody>\n",
       "    <tr>\n",
       "      <th>0</th>\n",
       "      <td>2022_12_03-04:00:11</td>\n",
       "      <td>0.794594</td>\n",
       "    </tr>\n",
       "    <tr>\n",
       "      <th>1</th>\n",
       "      <td>2022_12_03-03:53:11</td>\n",
       "      <td>0.794594</td>\n",
       "    </tr>\n",
       "    <tr>\n",
       "      <th>2</th>\n",
       "      <td>2022_12_03-04:02:08</td>\n",
       "      <td>0.787687</td>\n",
       "    </tr>\n",
       "    <tr>\n",
       "      <th>3</th>\n",
       "      <td>2022_12_03-05:40:39</td>\n",
       "      <td>0.786504</td>\n",
       "    </tr>\n",
       "    <tr>\n",
       "      <th>4</th>\n",
       "      <td>2022_12_03-03:43:32</td>\n",
       "      <td>0.776243</td>\n",
       "    </tr>\n",
       "  </tbody>\n",
       "</table>\n",
       "</div>"
      ],
      "text/plain": [
       "                  name        cv\n",
       "0  2022_12_03-04:00:11  0.794594\n",
       "1  2022_12_03-03:53:11  0.794594\n",
       "2  2022_12_03-04:02:08  0.787687\n",
       "3  2022_12_03-05:40:39  0.786504\n",
       "4  2022_12_03-03:43:32  0.776243"
      ]
     },
     "execution_count": 44,
     "metadata": {},
     "output_type": "execute_result"
    }
   ],
   "source": [
    "base_dir = \"submissions\"\n",
    "\n",
    "cv_df = pd.DataFrame()\n",
    "name = []\n",
    "cv = []\n",
    "\n",
    "for filename in os.listdir(base_dir):\n",
    "    if \"oof\" in filename:\n",
    "        oof_df = pd.read_csv(os.path.join(base_dir, filename))\n",
    "        cv_score = f1_score(oof_df[\"y\"], oof_df[\"y_pred\"], average=\"micro\")\n",
    "        trimmed_name = filename[:-8]\n",
    "        name.append(trimmed_name)\n",
    "        cv.append(cv_score)\n",
    "\n",
    "cv_df[\"name\"] = name\n",
    "cv_df[\"cv\"] = cv\n",
    "cv_df = cv_df.sort_values(by=[\"cv\"], ignore_index=True, ascending=False)\n",
    "cv_df = cv_df[:5]\n",
    "cv_df"
   ]
  },
  {
   "cell_type": "code",
   "execution_count": 45,
   "metadata": {},
   "outputs": [
    {
     "data": {
      "text/plain": [
       "(5068, 5)"
      ]
     },
     "execution_count": 45,
     "metadata": {},
     "output_type": "execute_result"
    }
   ],
   "source": [
    "oof = [pd.read_csv(os.path.join(base_dir, f\"{name}.oof.csv\")) for name in cv_df[\"name\"]]\n",
    "num_oof = len(oof)\n",
    "num_pred = len(oof[0])\n",
    "oof_preds = np.zeros((num_pred, num_oof))\n",
    "oof_target = oof[0][\"y\"]\n",
    "oof_cvs = [f1_score(oof_target, df[\"y_pred\"], average=\"micro\") for df in oof]\n",
    "\n",
    "for i in range(num_oof):\n",
    "    oof_preds[:, i] = oof[i][\"y_pred\"]\n",
    "\n",
    "oof_preds.shape"
   ]
  },
  {
   "cell_type": "code",
   "execution_count": 52,
   "metadata": {},
   "outputs": [
    {
     "data": {
      "text/plain": [
       "0.7904505725372915"
      ]
     },
     "execution_count": 52,
     "metadata": {},
     "output_type": "execute_result"
    }
   ],
   "source": [
    "model = AdaBoostClassifier()\n",
    "scores = cross_val_score(model, oof_preds, oof_target, scoring=\"f1_micro\", cv=5)\n",
    "np.mean(scores)"
   ]
  },
  {
   "cell_type": "code",
   "execution_count": 39,
   "metadata": {},
   "outputs": [],
   "source": [
    "model = AdaBoostClassifier()\n",
    "model = model.fit(oof_preds, oof_target)"
   ]
  },
  {
   "cell_type": "code",
   "execution_count": 41,
   "metadata": {},
   "outputs": [
    {
     "data": {
      "text/plain": [
       "(3411, 5)"
      ]
     },
     "execution_count": 41,
     "metadata": {},
     "output_type": "execute_result"
    }
   ],
   "source": [
    "subs = [pd.read_csv(os.path.join(base_dir, f\"{name}.csv\")) for name in cv_df[\"name\"]]\n",
    "num_test = len(subs[0])\n",
    "num_sub = len(subs)\n",
    "sub_pred = np.zeros((num_test, num_sub))\n",
    "\n",
    "for i in range(num_sub):\n",
    "    sub_pred[:, i] = subs[i][\"y\"]\n",
    "\n",
    "sub_pred.shape"
   ]
  },
  {
   "cell_type": "code",
   "execution_count": 42,
   "metadata": {},
   "outputs": [],
   "source": [
    "sub = pd.DataFrame()\n",
    "sub[\"id\"] = subs[0].id\n",
    "sub[\"y\"] = model.predict(sub_pred)\n",
    "sub.to_csv(\"submissions/stacking.csv\", index=False)"
   ]
  },
  {
   "cell_type": "code",
   "execution_count": null,
   "metadata": {},
   "outputs": [],
   "source": []
  }
 ],
 "metadata": {
  "kernelspec": {
   "display_name": "Python 3.9.12 ('base')",
   "language": "python",
   "name": "python3"
  },
  "language_info": {
   "codemirror_mode": {
    "name": "ipython",
    "version": 3
   },
   "file_extension": ".py",
   "mimetype": "text/x-python",
   "name": "python",
   "nbconvert_exporter": "python",
   "pygments_lexer": "ipython3",
   "version": "3.9.12"
  },
  "orig_nbformat": 4,
  "vscode": {
   "interpreter": {
    "hash": "40a2a61b844a78677911c3db6913e873dff55901a7bd176292f88bd2828d7d3a"
   }
  }
 },
 "nbformat": 4,
 "nbformat_minor": 2
}
