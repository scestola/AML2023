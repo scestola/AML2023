{
 "cells": [
  {
   "cell_type": "code",
   "execution_count": 14,
   "metadata": {},
   "outputs": [],
   "source": [
    "import gc\n",
    "import sklearn\n",
    "import numpy as np\n",
    "import pandas as pd\n",
    "import optuna\n",
    "import seaborn as sns\n",
    "import matplotlib.pyplot as plt\n",
    "from datetime import datetime\n",
    "from IPython.utils import io\n",
    "\n",
    "from imblearn.over_sampling import RandomOverSampler\n",
    "from sklearn.utils.class_weight import compute_sample_weight\n",
    "from sklearn.experimental import enable_iterative_imputer  # noqa\n",
    "from sklearn.impute import SimpleImputer, IterativeImputer\n",
    "from sklearn.neighbors import LocalOutlierFactor, KNeighborsRegressor\n",
    "from sklearn.feature_selection import (\n",
    "    RFE,\n",
    "    RFECV, \n",
    "    VarianceThreshold, \n",
    "    SelectKBest, \n",
    "    mutual_info_regression, \n",
    "    f_regression, \n",
    "    SelectFromModel,\n",
    "    f_classif,\n",
    "    chi2\n",
    ")\n",
    "\n",
    "from sklearn.metrics import f1_score, confusion_matrix\n",
    "\n",
    "from sklearn.preprocessing import (\n",
    "    QuantileTransformer, \n",
    "    RobustScaler, \n",
    "    MinMaxScaler, \n",
    "    StandardScaler\n",
    ")\n",
    "\n",
    "from sklearn.model_selection import (\n",
    "    RepeatedKFold, \n",
    "    RepeatedStratifiedKFold, \n",
    "    train_test_split, \n",
    "    cross_val_score\n",
    ")\n",
    "\n",
    "from sklearn.neighbors import KNeighborsClassifier\n",
    "\n",
    "from sklearn.linear_model import RidgeClassifier\n",
    "\n",
    "from sklearn.gaussian_process import GaussianProcessClassifier\n",
    "from sklearn.gaussian_process.kernels import (\n",
    "    RationalQuadratic, \n",
    "    WhiteKernel, \n",
    "    Matern, \n",
    "    ExpSineSquared, \n",
    "    DotProduct, \n",
    "    RBF\n",
    ")\n",
    "\n",
    "from sklearn.svm import SVC\n",
    "\n",
    "from sklearn.neural_network import MLPClassifier\n",
    "\n",
    "from sklearn.ensemble import (\n",
    "    AdaBoostClassifier,\n",
    "    BaggingClassifier,\n",
    "    RandomForestClassifier,\n",
    "    RandomForestRegressor,\n",
    "    IsolationForest,\n",
    "    GradientBoostingClassifier,\n",
    "    HistGradientBoostingClassifier,\n",
    "    HistGradientBoostingRegressor,\n",
    ")\n",
    "\n",
    "from xgboost import XGBClassifier"
   ]
  },
  {
   "cell_type": "code",
   "execution_count": 11,
   "metadata": {},
   "outputs": [],
   "source": [
    "SEED = 42"
   ]
  },
  {
   "cell_type": "markdown",
   "metadata": {},
   "source": [
    "## TaskSolver object"
   ]
  },
  {
   "cell_type": "code",
   "execution_count": 12,
   "metadata": {},
   "outputs": [],
   "source": [
    "class TaskSolver:\n",
    "    def __init__(\n",
    "        self, \n",
    "        train_df,\n",
    "        test_df,\n",
    "        imputer,\n",
    "        outliers_detector,\n",
    "        scaler,\n",
    "        corr_threshold,\n",
    "    ):\n",
    "        self.train_df = train_df\n",
    "        self.train_features = train_df.drop([\"id\", \"y\", \"fold\"], axis=1).to_numpy(dtype=\"float32\")\n",
    "        self.train_targets = train_df[\"y\"].to_numpy()\n",
    "        self.train_folds = train_df[\"fold\"].to_numpy()\n",
    "        self.test_df = test_df\n",
    "        self.test_features = test_df.drop([\"id\"], axis=1).to_numpy(dtype=\"float32\")\n",
    "        \n",
    "        self.imputer = imputer\n",
    "        self.outliers_detector = outliers_detector\n",
    "        self.scaler = scaler\n",
    "        self.corr_threshold = corr_threshold\n",
    "        self.resampler = RandomOverSampler(\n",
    "            sampling_strategy=\"auto\", \n",
    "            shrinkage=3,\n",
    "            random_state=SEED\n",
    "        )\n",
    "    \n",
    "    def _count_missing_values(self, x):\n",
    "        missing_count = np.count_nonzero(np.isnan(x))\n",
    "        total_entries = x.shape[0] * x.shape[1]\n",
    "        missing_pct = missing_count / total_entries\n",
    "        print(f\"Total missing values: {missing_count}/{total_entries} ({missing_pct*100:.3f}%)\")\n",
    "        return missing_pct\n",
    "\n",
    "    def _handling_missing_values(self):\n",
    "        self._count_missing_values(self.train_features)\n",
    "        self._count_missing_values(self.test_features)\n",
    "        print(\"Imputing missing values...\")\n",
    "        \n",
    "        self.imputer.fit(self.train_features)\n",
    "        self.train_features = self.imputer.transform(self.train_features)\n",
    "        self.test_features = self.imputer.transform(self.test_features)\n",
    "        assert self._count_missing_values(self.train_features) == 0.0\n",
    "        assert self._count_missing_values(self.test_features) == 0.0\n",
    "    \n",
    "    def _detect_and_remove_outliers(self):\n",
    "        classes = [0, 1, 2, 3]\n",
    "        new_train_features = np.array([]).reshape(0, self.train_features.shape[1])\n",
    "        new_train_targets = np.array([])\n",
    "        new_train_folds = np.array([])\n",
    "        for c in classes:\n",
    "            mask = (self.train_targets == c)\n",
    "            class_samples = self.train_features[mask]\n",
    "            class_targets = self.train_targets[mask]\n",
    "            class_folds = self.train_folds[mask]\n",
    "            num_samples = class_samples.shape[0]\n",
    "            outlier_detector = IsolationForest(random_state=SEED)\n",
    "            y = outlier_detector.fit_predict(class_samples)\n",
    "            outlier_count = sum(y == -1)\n",
    "            outlier_pct = outlier_count / num_samples\n",
    "            # print(f\"Class {c} has {outlier_count} outliers. ({outlier_pct*100:.5f}%)\")\n",
    "            scores = outlier_detector.decision_function(class_samples)\n",
    "            remove_pct = min(0.01, outlier_pct) # Remove 1% outliers\n",
    "            remove_count = int(num_samples * remove_pct)\n",
    "            remove_indices = np.argpartition(scores, kth=remove_count)[:remove_count]\n",
    "            print(f\"Remove {remove_count} outliers from class {c}\")\n",
    "            new_train_features = np.vstack((new_train_features, np.delete(class_samples, remove_indices, axis=0)))\n",
    "            new_train_targets = np.concatenate((new_train_targets, np.delete(class_targets, remove_indices)))\n",
    "            new_train_folds = np.concatenate((new_train_folds, np.delete(class_folds, remove_indices)))\n",
    "            del outlier_detector\n",
    "            gc.collect()\n",
    "            \n",
    "        self.train_features = new_train_features\n",
    "        self.train_targets = new_train_targets\n",
    "        self.train_folds = new_train_folds\n",
    "        print(\n",
    "            \"Train shape:\", self.train_features.shape, \n",
    "            \"Train target shape:\", self.train_targets.shape,\n",
    "            \"Train fold shape:\", self.train_folds.shape,\n",
    "        )\n",
    "    \n",
    "    def _normalize_data(self):\n",
    "        print(\"Rescaling data...\")\n",
    "        self.scaler.fit(self.train_features)\n",
    "        self.train_features = self.scaler.transform(self.train_features)\n",
    "        self.test_features = self.scaler.transform(self.test_features)\n",
    "    \n",
    "    def _corr2_coeff(self, A, B):\n",
    "        # credit: https://stackoverflow.com/a/30143754/7053239\n",
    "        # Rowwise mean of input arrays & subtract from input arrays themeselves\n",
    "        A_mA = A - A.mean(1)[:, None]\n",
    "        B_mB = B - B.mean(1)[:, None]\n",
    "        # Sum of squares across rows\n",
    "        ssA = (A_mA ** 2).sum(1)\n",
    "        ssB = (B_mB ** 2).sum(1)\n",
    "        # Finally get corr coeff\n",
    "        return np.dot(A_mA, B_mB.T) / np.sqrt(np.dot(ssA[:, None], ssB[None]))\n",
    "\n",
    "    def _remove_redundant_features(self):\n",
    "        print(\"Removing zero-variance features...\")\n",
    "        self.var_selector = VarianceThreshold(threshold=0)\n",
    "        self.var_selector.fit(self.train_features)\n",
    "        self.train_features = self.var_selector.transform(self.train_features)\n",
    "        self.test_features = self.var_selector.transform(self.test_features)\n",
    "        print(\"Train shape:\", self.train_features.shape, \"Test shape:\", self.test_features.shape)\n",
    "        \n",
    "        # print(\"Removing highly correlated features...\")\n",
    "        # cor = self._corr2_coeff(self.train_features.T, self.train_features.T)\n",
    "        # correlated_pairs = np.argwhere(np.triu(np.absolute(cor) >= self.corr_threshold, 1))\n",
    "        # self.train_features = np.delete(self.train_features, correlated_pairs[:, 1], axis=1)\n",
    "        # self.test_features = np.delete(self.test_features, correlated_pairs[:, 1], axis=1)\n",
    "        # print(\"Train shape:\", self.train_features.shape, \"Test shape:\", self.test_features.shape)\n",
    "\n",
    "    def _prepare_kfold(self):\n",
    "        self.fold_train_features = []\n",
    "        self.fold_train_targets = []\n",
    "        self.fold_sample_weights = []\n",
    "        self.fold_val_features = []\n",
    "        self.fold_val_targets = []\n",
    "        for fold_nr in range(5):\n",
    "            val_mask = (self.train_folds == fold_nr)\n",
    "            x_train = self.train_features[~val_mask]\n",
    "            y_train = self.train_targets[~val_mask]\n",
    "            x_val = self.train_features[val_mask]\n",
    "            y_val = self.train_targets[val_mask]\n",
    "            sample_weight = compute_sample_weight(class_weight=\"balanced\", y=y_train)\n",
    "            self.fold_train_features.append(x_train)\n",
    "            self.fold_train_targets.append(y_train)\n",
    "            self.fold_sample_weights.append(sample_weight)\n",
    "            self.fold_val_features.append(x_val)\n",
    "            self.fold_val_targets.append(y_val)\n",
    "\n",
    "    def preprocessing(self):\n",
    "        self._handling_missing_values()\n",
    "        self._detect_and_remove_outliers()\n",
    "        self._normalize_data()\n",
    "        self._remove_redundant_features()\n",
    "        self._prepare_kfold()\n",
    "    \n",
    "    def feature_selection(self, selector):\n",
    "        print(\"Selecting features...\")\n",
    "        self.feature_selector = selector\n",
    "        self.feature_selector.fit(self.train_features, self.train_targets)\n",
    "        self.train_features = self.feature_selector.transform(self.train_features)\n",
    "        self.test_features = self.feature_selector.transform(self.test_features)\n",
    "        print(\"Train shape:\", self.train_features.shape, \"Test shape:\", self.test_features.shape)\n",
    "\n",
    "    def _round_to_nearest_int(self, x):\n",
    "        decimal = x % 1\n",
    "        mask = abs(x - np.round(x)) <= self.rounding_threshold\n",
    "        x[mask] = np.round(x[mask])\n",
    "        return x\n",
    "\n",
    "    def _cross_validation(self, model):\n",
    "        scores = []\n",
    "        self.oof_preds = []\n",
    "        self.oof_targets = []\n",
    "        for fold_nr in range(5):\n",
    "            x_train = self.fold_train_features[fold_nr]\n",
    "            y_train = self.fold_train_targets[fold_nr]\n",
    "            sample_weight = self.fold_sample_weights[fold_nr]\n",
    "            x_val = self.fold_val_features[fold_nr]\n",
    "            y_val = self.fold_val_targets[fold_nr]\n",
    "            model = model.fit(x_train, y_train, sample_weight=sample_weight)\n",
    "            pred_val = model.predict(x_val)\n",
    "            scores.append(f1_score(y_val, pred_val, average='micro'))\n",
    "            self.oof_preds.extend(pred_val.tolist())\n",
    "            self.oof_targets.extend(y_val.tolist())\n",
    "\n",
    "        return scores\n",
    "    \n",
    "    def _save_oof_prediction(self):\n",
    "        oof = pd.DataFrame()\n",
    "        oof[\"y_pred\"] = self.oof_preds\n",
    "        oof[\"y\"] = self.oof_targets\n",
    "        oof.to_csv(f\"submissions/{self.timestamp}.oof.csv\", index=False)\n",
    "\n",
    "    def _get_oof_confusion_matrix(self):\n",
    "        cf_matrix = confusion_matrix(self.oof_targets, self.oof_preds)\n",
    "        sns.heatmap(cf_matrix / np.sum(cf_matrix), annot=True, fmt='.2%', cmap='Blues')\n",
    "\n",
    "    def train(self, model, verbose=True):\n",
    "        self.timestamp = datetime.now().strftime(\"%Y_%m_%d-%I:%M:%S\")\n",
    "        scores = self._cross_validation(sklearn.base.clone(model))\n",
    "        \n",
    "        if verbose: \n",
    "            print(\"F1: {:.5f} ± {:.5f}\".format(np.mean(scores), np.std(scores)))\n",
    "            self._get_oof_confusion_matrix()\n",
    "\n",
    "        return np.mean(scores)\n",
    "\n",
    "    def predict_test(self, model):\n",
    "        sample_weight = compute_sample_weight(class_weight=\"balanced\", y=self.train_targets)\n",
    "        model.fit(self.train_features, self.train_targets, sample_weight=sample_weight)\n",
    "        pred = model.predict(self.test_features)\n",
    "        submission = pd.DataFrame()\n",
    "        submission[\"id\"] = self.test_df[\"id\"]\n",
    "        submission[\"y\"] = pred\n",
    "        submission.to_csv(f\"submissions/{self.timestamp}.csv\", index=False)\n",
    "        self._save_oof_prediction()"
   ]
  },
  {
   "cell_type": "markdown",
   "metadata": {},
   "source": [
    "## Feature preprocessing & selection"
   ]
  },
  {
   "cell_type": "code",
   "execution_count": 13,
   "metadata": {},
   "outputs": [
    {
     "name": "stdout",
     "output_type": "stream",
     "text": [
      "Total missing values: 29987/429828 (6.977%)\n",
      "Total missing values: 18002/286524 (6.283%)\n",
      "Imputing missing values...\n",
      "Total missing values: 0/429828 (0.000%)\n",
      "Total missing values: 0/286524 (0.000%)\n",
      "Remove 30 outliers from class 0\n",
      "Remove 4 outliers from class 1\n",
      "Remove 14 outliers from class 2\n",
      "Remove 1 outliers from class 3\n",
      "Train shape: (5068, 84) Train target shape: (5068,) Train fold shape: (5068,)\n",
      "Rescaling data...\n",
      "Removing zero-variance features...\n",
      "Train shape: (5068, 84) Test shape: (3411, 84)\n"
     ]
    }
   ],
   "source": [
    "solver = TaskSolver(\n",
    "    train_df=pd.read_csv(\"data/kfold.csv\"),\n",
    "    test_df=pd.read_csv(\"data/test_features.csv\"),\n",
    "    imputer=IterativeImputer(\n",
    "        estimator=RandomForestRegressor(\n",
    "            n_estimators=10,\n",
    "            max_depth=10,\n",
    "            bootstrap=True,\n",
    "            max_samples=0.5,\n",
    "            random_state=SEED\n",
    "        ),\n",
    "        max_iter=10,\n",
    "        n_nearest_features=35,\n",
    "        initial_strategy=\"median\", \n",
    "        random_state=SEED, \n",
    "        verbose=0\n",
    "    ),\n",
    "    outliers_detector=IsolationForest(random_state=SEED),\n",
    "    scaler=QuantileTransformer(output_distribution=\"normal\"),\n",
    "    corr_threshold=0.97,\n",
    ")\n",
    "\n",
    "solver.preprocessing()"
   ]
  },
  {
   "cell_type": "markdown",
   "metadata": {},
   "source": [
    "## Tune models"
   ]
  },
  {
   "cell_type": "code",
   "execution_count": 16,
   "metadata": {},
   "outputs": [
    {
     "name": "stderr",
     "output_type": "stream",
     "text": [
      "\u001b[32m[I 2022-12-04 18:06:48,273]\u001b[0m A new study created in memory with name: no-name-36eb2f21-e338-4135-8450-162af29c2a27\u001b[0m\n",
      "\u001b[32m[I 2022-12-04 18:11:09,117]\u001b[0m Trial 0 finished with value: 0.7721020569536142 and parameters: {'bootstrap': False, 'max_depth': 150, 'max_features': 'sqrt', 'min_samples_leaf': 1, 'min_samples_split': 5, 'n_estimators': 1000}. Best is trial 0 with value: 0.7721020569536142.\u001b[0m\n",
      "\u001b[32m[I 2022-12-04 18:11:26,599]\u001b[0m Trial 1 finished with value: 0.7239240207913473 and parameters: {'bootstrap': False, 'max_depth': 10, 'max_features': 'sqrt', 'min_samples_leaf': 9, 'min_samples_split': 10, 'n_estimators': 100}. Best is trial 0 with value: 0.7721020569536142.\u001b[0m\n",
      "\u001b[32m[I 2022-12-04 18:12:05,633]\u001b[0m Trial 2 finished with value: 0.7715089791465981 and parameters: {'bootstrap': False, 'max_depth': 50, 'max_features': 'sqrt', 'min_samples_leaf': 2, 'min_samples_split': 4, 'n_estimators': 150}. Best is trial 0 with value: 0.7721020569536142.\u001b[0m\n",
      "\u001b[32m[I 2022-12-04 18:13:06,826]\u001b[0m Trial 3 finished with value: 0.7345761938619855 and parameters: {'bootstrap': False, 'max_depth': 150, 'max_features': 'sqrt', 'min_samples_leaf': 10, 'min_samples_split': 3, 'n_estimators': 300}. Best is trial 0 with value: 0.7721020569536142.\u001b[0m\n",
      "\u001b[32m[I 2022-12-04 18:13:46,896]\u001b[0m Trial 4 finished with value: 0.7343847677938113 and parameters: {'bootstrap': True, 'max_depth': 50, 'max_features': 'sqrt', 'min_samples_leaf': 9, 'min_samples_split': 4, 'n_estimators': 300}. Best is trial 0 with value: 0.7721020569536142.\u001b[0m\n",
      "\u001b[32m[I 2022-12-04 18:14:36,085]\u001b[0m Trial 5 finished with value: 0.7553214444835952 and parameters: {'bootstrap': True, 'max_depth': 100, 'max_features': 'log2', 'min_samples_leaf': 3, 'min_samples_split': 9, 'n_estimators': 500}. Best is trial 0 with value: 0.7721020569536142.\u001b[0m\n",
      "\u001b[32m[I 2022-12-04 18:15:02,504]\u001b[0m Trial 6 finished with value: 0.7312211837483356 and parameters: {'bootstrap': False, 'max_depth': 10, 'max_features': 'sqrt', 'min_samples_leaf': 7, 'min_samples_split': 3, 'n_estimators': 150}. Best is trial 0 with value: 0.7721020569536142.\u001b[0m\n",
      "\u001b[32m[I 2022-12-04 18:15:51,956]\u001b[0m Trial 7 finished with value: 0.7638078692204517 and parameters: {'bootstrap': False, 'max_depth': 100, 'max_features': 'log2', 'min_samples_leaf': 3, 'min_samples_split': 5, 'n_estimators': 300}. Best is trial 0 with value: 0.7721020569536142.\u001b[0m\n",
      "\u001b[32m[I 2022-12-04 18:16:06,266]\u001b[0m Trial 8 finished with value: 0.7371513822785734 and parameters: {'bootstrap': False, 'max_depth': 150, 'max_features': 'log2', 'min_samples_leaf': 8, 'min_samples_split': 4, 'n_estimators': 100}. Best is trial 0 with value: 0.7721020569536142.\u001b[0m\n",
      "\u001b[32m[I 2022-12-04 18:16:41,212]\u001b[0m Trial 9 finished with value: 0.7270827829805928 and parameters: {'bootstrap': True, 'max_depth': 10, 'max_features': 'sqrt', 'min_samples_leaf': 9, 'min_samples_split': 10, 'n_estimators': 300}. Best is trial 0 with value: 0.7721020569536142.\u001b[0m\n",
      "\u001b[33m[W 2022-12-04 18:17:56,800]\u001b[0m Trial 10 failed because of the following error: KeyboardInterrupt()\u001b[0m\n",
      "Traceback (most recent call last):\n",
      "  File \"/Users/kvu/opt/anaconda3/lib/python3.9/site-packages/optuna/study/_optimize.py\", line 196, in _run_trial\n",
      "    value_or_values = func(trial)\n",
      "  File \"/var/folders/8m/ghcy9q297nbgdz6sbbtyp4ym0000gn/T/ipykernel_5239/2799802284.py\", line 49, in objective\n",
      "    cv_score = solver.train(model, verbose=False)\n",
      "  File \"/var/folders/8m/ghcy9q297nbgdz6sbbtyp4ym0000gn/T/ipykernel_5239/1476997071.py\", line 184, in train\n",
      "    scores = self._cross_validation(sklearn.base.clone(model))\n",
      "  File \"/var/folders/8m/ghcy9q297nbgdz6sbbtyp4ym0000gn/T/ipykernel_5239/1476997071.py\", line 164, in _cross_validation\n",
      "    model = model.fit(x_train, y_train, sample_weight=sample_weight)\n",
      "  File \"/Users/kvu/opt/anaconda3/lib/python3.9/site-packages/sklearn/ensemble/_forest.py\", line 476, in fit\n",
      "    trees = Parallel(\n",
      "  File \"/Users/kvu/opt/anaconda3/lib/python3.9/site-packages/joblib/parallel.py\", line 1046, in __call__\n",
      "    while self.dispatch_one_batch(iterator):\n",
      "  File \"/Users/kvu/opt/anaconda3/lib/python3.9/site-packages/joblib/parallel.py\", line 861, in dispatch_one_batch\n",
      "    self._dispatch(tasks)\n",
      "  File \"/Users/kvu/opt/anaconda3/lib/python3.9/site-packages/joblib/parallel.py\", line 779, in _dispatch\n",
      "    job = self._backend.apply_async(batch, callback=cb)\n",
      "  File \"/Users/kvu/opt/anaconda3/lib/python3.9/site-packages/joblib/_parallel_backends.py\", line 208, in apply_async\n",
      "    result = ImmediateResult(func)\n",
      "  File \"/Users/kvu/opt/anaconda3/lib/python3.9/site-packages/joblib/_parallel_backends.py\", line 572, in __init__\n",
      "    self.results = batch()\n",
      "  File \"/Users/kvu/opt/anaconda3/lib/python3.9/site-packages/joblib/parallel.py\", line 262, in __call__\n",
      "    return [func(*args, **kwargs)\n",
      "  File \"/Users/kvu/opt/anaconda3/lib/python3.9/site-packages/joblib/parallel.py\", line 262, in <listcomp>\n",
      "    return [func(*args, **kwargs)\n",
      "  File \"/Users/kvu/opt/anaconda3/lib/python3.9/site-packages/sklearn/utils/fixes.py\", line 117, in __call__\n",
      "    return self.function(*args, **kwargs)\n",
      "  File \"/Users/kvu/opt/anaconda3/lib/python3.9/site-packages/sklearn/ensemble/_forest.py\", line 189, in _parallel_build_trees\n",
      "    tree.fit(X, y, sample_weight=curr_sample_weight, check_input=False)\n",
      "  File \"/Users/kvu/opt/anaconda3/lib/python3.9/site-packages/sklearn/tree/_classes.py\", line 969, in fit\n",
      "    super().fit(\n",
      "  File \"/Users/kvu/opt/anaconda3/lib/python3.9/site-packages/sklearn/tree/_classes.py\", line 458, in fit\n",
      "    builder.build(self.tree_, X, y, sample_weight)\n",
      "KeyboardInterrupt\n"
     ]
    },
    {
     "ename": "KeyboardInterrupt",
     "evalue": "",
     "output_type": "error",
     "traceback": [
      "\u001b[0;31m---------------------------------------------------------------------------\u001b[0m",
      "\u001b[0;31mKeyboardInterrupt\u001b[0m                         Traceback (most recent call last)",
      "\u001b[1;32m/Users/kvu/github/AML-HS22/task2/modeling.ipynb Cell 8\u001b[0m in \u001b[0;36m<cell line: 54>\u001b[0;34m()\u001b[0m\n\u001b[1;32m     <a href='vscode-notebook-cell:/Users/kvu/github/AML-HS22/task2/modeling.ipynb#X10sZmlsZQ%3D%3D?line=49'>50</a>\u001b[0m     \u001b[39mreturn\u001b[39;00m cv_score\n\u001b[1;32m     <a href='vscode-notebook-cell:/Users/kvu/github/AML-HS22/task2/modeling.ipynb#X10sZmlsZQ%3D%3D?line=51'>52</a>\u001b[0m study \u001b[39m=\u001b[39m optuna\u001b[39m.\u001b[39mcreate_study(direction\u001b[39m=\u001b[39m\u001b[39m\"\u001b[39m\u001b[39mmaximize\u001b[39m\u001b[39m\"\u001b[39m)\n\u001b[0;32m---> <a href='vscode-notebook-cell:/Users/kvu/github/AML-HS22/task2/modeling.ipynb#X10sZmlsZQ%3D%3D?line=53'>54</a>\u001b[0m study\u001b[39m.\u001b[39;49moptimize(objective, n_trials\u001b[39m=\u001b[39;49m\u001b[39m100\u001b[39;49m)\n",
      "File \u001b[0;32m~/opt/anaconda3/lib/python3.9/site-packages/optuna/study/study.py:419\u001b[0m, in \u001b[0;36mStudy.optimize\u001b[0;34m(self, func, n_trials, timeout, n_jobs, catch, callbacks, gc_after_trial, show_progress_bar)\u001b[0m\n\u001b[1;32m    315\u001b[0m \u001b[39mdef\u001b[39;00m \u001b[39moptimize\u001b[39m(\n\u001b[1;32m    316\u001b[0m     \u001b[39mself\u001b[39m,\n\u001b[1;32m    317\u001b[0m     func: ObjectiveFuncType,\n\u001b[0;32m   (...)\u001b[0m\n\u001b[1;32m    324\u001b[0m     show_progress_bar: \u001b[39mbool\u001b[39m \u001b[39m=\u001b[39m \u001b[39mFalse\u001b[39;00m,\n\u001b[1;32m    325\u001b[0m ) \u001b[39m-\u001b[39m\u001b[39m>\u001b[39m \u001b[39mNone\u001b[39;00m:\n\u001b[1;32m    326\u001b[0m     \u001b[39m\"\"\"Optimize an objective function.\u001b[39;00m\n\u001b[1;32m    327\u001b[0m \n\u001b[1;32m    328\u001b[0m \u001b[39m    Optimization is done by choosing a suitable set of hyperparameter values from a given\u001b[39;00m\n\u001b[0;32m   (...)\u001b[0m\n\u001b[1;32m    416\u001b[0m \u001b[39m            If nested invocation of this method occurs.\u001b[39;00m\n\u001b[1;32m    417\u001b[0m \u001b[39m    \"\"\"\u001b[39;00m\n\u001b[0;32m--> 419\u001b[0m     _optimize(\n\u001b[1;32m    420\u001b[0m         study\u001b[39m=\u001b[39;49m\u001b[39mself\u001b[39;49m,\n\u001b[1;32m    421\u001b[0m         func\u001b[39m=\u001b[39;49mfunc,\n\u001b[1;32m    422\u001b[0m         n_trials\u001b[39m=\u001b[39;49mn_trials,\n\u001b[1;32m    423\u001b[0m         timeout\u001b[39m=\u001b[39;49mtimeout,\n\u001b[1;32m    424\u001b[0m         n_jobs\u001b[39m=\u001b[39;49mn_jobs,\n\u001b[1;32m    425\u001b[0m         catch\u001b[39m=\u001b[39;49mcatch,\n\u001b[1;32m    426\u001b[0m         callbacks\u001b[39m=\u001b[39;49mcallbacks,\n\u001b[1;32m    427\u001b[0m         gc_after_trial\u001b[39m=\u001b[39;49mgc_after_trial,\n\u001b[1;32m    428\u001b[0m         show_progress_bar\u001b[39m=\u001b[39;49mshow_progress_bar,\n\u001b[1;32m    429\u001b[0m     )\n",
      "File \u001b[0;32m~/opt/anaconda3/lib/python3.9/site-packages/optuna/study/_optimize.py:66\u001b[0m, in \u001b[0;36m_optimize\u001b[0;34m(study, func, n_trials, timeout, n_jobs, catch, callbacks, gc_after_trial, show_progress_bar)\u001b[0m\n\u001b[1;32m     64\u001b[0m \u001b[39mtry\u001b[39;00m:\n\u001b[1;32m     65\u001b[0m     \u001b[39mif\u001b[39;00m n_jobs \u001b[39m==\u001b[39m \u001b[39m1\u001b[39m:\n\u001b[0;32m---> 66\u001b[0m         _optimize_sequential(\n\u001b[1;32m     67\u001b[0m             study,\n\u001b[1;32m     68\u001b[0m             func,\n\u001b[1;32m     69\u001b[0m             n_trials,\n\u001b[1;32m     70\u001b[0m             timeout,\n\u001b[1;32m     71\u001b[0m             catch,\n\u001b[1;32m     72\u001b[0m             callbacks,\n\u001b[1;32m     73\u001b[0m             gc_after_trial,\n\u001b[1;32m     74\u001b[0m             reseed_sampler_rng\u001b[39m=\u001b[39;49m\u001b[39mFalse\u001b[39;49;00m,\n\u001b[1;32m     75\u001b[0m             time_start\u001b[39m=\u001b[39;49m\u001b[39mNone\u001b[39;49;00m,\n\u001b[1;32m     76\u001b[0m             progress_bar\u001b[39m=\u001b[39;49mprogress_bar,\n\u001b[1;32m     77\u001b[0m         )\n\u001b[1;32m     78\u001b[0m     \u001b[39melse\u001b[39;00m:\n\u001b[1;32m     79\u001b[0m         \u001b[39mif\u001b[39;00m n_jobs \u001b[39m==\u001b[39m \u001b[39m-\u001b[39m\u001b[39m1\u001b[39m:\n",
      "File \u001b[0;32m~/opt/anaconda3/lib/python3.9/site-packages/optuna/study/_optimize.py:160\u001b[0m, in \u001b[0;36m_optimize_sequential\u001b[0;34m(study, func, n_trials, timeout, catch, callbacks, gc_after_trial, reseed_sampler_rng, time_start, progress_bar)\u001b[0m\n\u001b[1;32m    157\u001b[0m         \u001b[39mbreak\u001b[39;00m\n\u001b[1;32m    159\u001b[0m \u001b[39mtry\u001b[39;00m:\n\u001b[0;32m--> 160\u001b[0m     frozen_trial \u001b[39m=\u001b[39m _run_trial(study, func, catch)\n\u001b[1;32m    161\u001b[0m \u001b[39mfinally\u001b[39;00m:\n\u001b[1;32m    162\u001b[0m     \u001b[39m# The following line mitigates memory problems that can be occurred in some\u001b[39;00m\n\u001b[1;32m    163\u001b[0m     \u001b[39m# environments (e.g., services that use computing containers such as CircleCI).\u001b[39;00m\n\u001b[1;32m    164\u001b[0m     \u001b[39m# Please refer to the following PR for further details:\u001b[39;00m\n\u001b[1;32m    165\u001b[0m     \u001b[39m# https://github.com/optuna/optuna/pull/325.\u001b[39;00m\n\u001b[1;32m    166\u001b[0m     \u001b[39mif\u001b[39;00m gc_after_trial:\n",
      "File \u001b[0;32m~/opt/anaconda3/lib/python3.9/site-packages/optuna/study/_optimize.py:234\u001b[0m, in \u001b[0;36m_run_trial\u001b[0;34m(study, func, catch)\u001b[0m\n\u001b[1;32m    227\u001b[0m         \u001b[39massert\u001b[39;00m \u001b[39mFalse\u001b[39;00m, \u001b[39m\"\u001b[39m\u001b[39mShould not reach.\u001b[39m\u001b[39m\"\u001b[39m\n\u001b[1;32m    229\u001b[0m \u001b[39mif\u001b[39;00m (\n\u001b[1;32m    230\u001b[0m     frozen_trial\u001b[39m.\u001b[39mstate \u001b[39m==\u001b[39m TrialState\u001b[39m.\u001b[39mFAIL\n\u001b[1;32m    231\u001b[0m     \u001b[39mand\u001b[39;00m func_err \u001b[39mis\u001b[39;00m \u001b[39mnot\u001b[39;00m \u001b[39mNone\u001b[39;00m\n\u001b[1;32m    232\u001b[0m     \u001b[39mand\u001b[39;00m \u001b[39mnot\u001b[39;00m \u001b[39misinstance\u001b[39m(func_err, catch)\n\u001b[1;32m    233\u001b[0m ):\n\u001b[0;32m--> 234\u001b[0m     \u001b[39mraise\u001b[39;00m func_err\n\u001b[1;32m    235\u001b[0m \u001b[39mreturn\u001b[39;00m frozen_trial\n",
      "File \u001b[0;32m~/opt/anaconda3/lib/python3.9/site-packages/optuna/study/_optimize.py:196\u001b[0m, in \u001b[0;36m_run_trial\u001b[0;34m(study, func, catch)\u001b[0m\n\u001b[1;32m    194\u001b[0m \u001b[39mwith\u001b[39;00m get_heartbeat_thread(trial\u001b[39m.\u001b[39m_trial_id, study\u001b[39m.\u001b[39m_storage):\n\u001b[1;32m    195\u001b[0m     \u001b[39mtry\u001b[39;00m:\n\u001b[0;32m--> 196\u001b[0m         value_or_values \u001b[39m=\u001b[39m func(trial)\n\u001b[1;32m    197\u001b[0m     \u001b[39mexcept\u001b[39;00m exceptions\u001b[39m.\u001b[39mTrialPruned \u001b[39mas\u001b[39;00m e:\n\u001b[1;32m    198\u001b[0m         \u001b[39m# TODO(mamu): Handle multi-objective cases.\u001b[39;00m\n\u001b[1;32m    199\u001b[0m         state \u001b[39m=\u001b[39m TrialState\u001b[39m.\u001b[39mPRUNED\n",
      "\u001b[1;32m/Users/kvu/github/AML-HS22/task2/modeling.ipynb Cell 8\u001b[0m in \u001b[0;36mobjective\u001b[0;34m(trial)\u001b[0m\n\u001b[1;32m      <a href='vscode-notebook-cell:/Users/kvu/github/AML-HS22/task2/modeling.ipynb#X10sZmlsZQ%3D%3D?line=0'>1</a>\u001b[0m \u001b[39mdef\u001b[39;00m \u001b[39mobjective\u001b[39m(trial):\n\u001b[1;32m      <a href='vscode-notebook-cell:/Users/kvu/github/AML-HS22/task2/modeling.ipynb#X10sZmlsZQ%3D%3D?line=1'>2</a>\u001b[0m     \u001b[39m# model = XGBClassifier(\u001b[39;00m\n\u001b[1;32m      <a href='vscode-notebook-cell:/Users/kvu/github/AML-HS22/task2/modeling.ipynb#X10sZmlsZQ%3D%3D?line=2'>3</a>\u001b[0m     \u001b[39m#     **{\u001b[39;00m\n\u001b[0;32m   (...)\u001b[0m\n\u001b[1;32m     <a href='vscode-notebook-cell:/Users/kvu/github/AML-HS22/task2/modeling.ipynb#X10sZmlsZQ%3D%3D?line=33'>34</a>\u001b[0m     \u001b[39m#     }\u001b[39;00m\n\u001b[1;32m     <a href='vscode-notebook-cell:/Users/kvu/github/AML-HS22/task2/modeling.ipynb#X10sZmlsZQ%3D%3D?line=34'>35</a>\u001b[0m     \u001b[39m# )\u001b[39;00m\n\u001b[1;32m     <a href='vscode-notebook-cell:/Users/kvu/github/AML-HS22/task2/modeling.ipynb#X10sZmlsZQ%3D%3D?line=36'>37</a>\u001b[0m     model \u001b[39m=\u001b[39m RandomForestClassifier(\n\u001b[1;32m     <a href='vscode-notebook-cell:/Users/kvu/github/AML-HS22/task2/modeling.ipynb#X10sZmlsZQ%3D%3D?line=37'>38</a>\u001b[0m         \u001b[39m*\u001b[39m\u001b[39m*\u001b[39m{\n\u001b[1;32m     <a href='vscode-notebook-cell:/Users/kvu/github/AML-HS22/task2/modeling.ipynb#X10sZmlsZQ%3D%3D?line=38'>39</a>\u001b[0m             \u001b[39m'\u001b[39m\u001b[39mbootstrap\u001b[39m\u001b[39m'\u001b[39m: trial\u001b[39m.\u001b[39msuggest_categorical(\u001b[39m\"\u001b[39m\u001b[39mbootstrap\u001b[39m\u001b[39m\"\u001b[39m, [\u001b[39mTrue\u001b[39;00m, \u001b[39mFalse\u001b[39;00m]),\n\u001b[0;32m   (...)\u001b[0m\n\u001b[1;32m     <a href='vscode-notebook-cell:/Users/kvu/github/AML-HS22/task2/modeling.ipynb#X10sZmlsZQ%3D%3D?line=45'>46</a>\u001b[0m         random_state\u001b[39m=\u001b[39mSEED\n\u001b[1;32m     <a href='vscode-notebook-cell:/Users/kvu/github/AML-HS22/task2/modeling.ipynb#X10sZmlsZQ%3D%3D?line=46'>47</a>\u001b[0m     )\n\u001b[0;32m---> <a href='vscode-notebook-cell:/Users/kvu/github/AML-HS22/task2/modeling.ipynb#X10sZmlsZQ%3D%3D?line=48'>49</a>\u001b[0m     cv_score \u001b[39m=\u001b[39m solver\u001b[39m.\u001b[39;49mtrain(model, verbose\u001b[39m=\u001b[39;49m\u001b[39mFalse\u001b[39;49;00m)\n\u001b[1;32m     <a href='vscode-notebook-cell:/Users/kvu/github/AML-HS22/task2/modeling.ipynb#X10sZmlsZQ%3D%3D?line=49'>50</a>\u001b[0m     \u001b[39mreturn\u001b[39;00m cv_score\n",
      "\u001b[1;32m/Users/kvu/github/AML-HS22/task2/modeling.ipynb Cell 8\u001b[0m in \u001b[0;36mTaskSolver.train\u001b[0;34m(self, model, verbose)\u001b[0m\n\u001b[1;32m    <a href='vscode-notebook-cell:/Users/kvu/github/AML-HS22/task2/modeling.ipynb#X10sZmlsZQ%3D%3D?line=181'>182</a>\u001b[0m \u001b[39mdef\u001b[39;00m \u001b[39mtrain\u001b[39m(\u001b[39mself\u001b[39m, model, verbose\u001b[39m=\u001b[39m\u001b[39mTrue\u001b[39;00m):\n\u001b[1;32m    <a href='vscode-notebook-cell:/Users/kvu/github/AML-HS22/task2/modeling.ipynb#X10sZmlsZQ%3D%3D?line=182'>183</a>\u001b[0m     \u001b[39mself\u001b[39m\u001b[39m.\u001b[39mtimestamp \u001b[39m=\u001b[39m datetime\u001b[39m.\u001b[39mnow()\u001b[39m.\u001b[39mstrftime(\u001b[39m\"\u001b[39m\u001b[39m%\u001b[39m\u001b[39mY_\u001b[39m\u001b[39m%\u001b[39m\u001b[39mm_\u001b[39m\u001b[39m%d\u001b[39;00m\u001b[39m-\u001b[39m\u001b[39m%\u001b[39m\u001b[39mI:\u001b[39m\u001b[39m%\u001b[39m\u001b[39mM:\u001b[39m\u001b[39m%\u001b[39m\u001b[39mS\u001b[39m\u001b[39m\"\u001b[39m)\n\u001b[0;32m--> <a href='vscode-notebook-cell:/Users/kvu/github/AML-HS22/task2/modeling.ipynb#X10sZmlsZQ%3D%3D?line=183'>184</a>\u001b[0m     scores \u001b[39m=\u001b[39m \u001b[39mself\u001b[39;49m\u001b[39m.\u001b[39;49m_cross_validation(sklearn\u001b[39m.\u001b[39;49mbase\u001b[39m.\u001b[39;49mclone(model))\n\u001b[1;32m    <a href='vscode-notebook-cell:/Users/kvu/github/AML-HS22/task2/modeling.ipynb#X10sZmlsZQ%3D%3D?line=185'>186</a>\u001b[0m     \u001b[39mif\u001b[39;00m verbose: \n\u001b[1;32m    <a href='vscode-notebook-cell:/Users/kvu/github/AML-HS22/task2/modeling.ipynb#X10sZmlsZQ%3D%3D?line=186'>187</a>\u001b[0m         \u001b[39mprint\u001b[39m(\u001b[39m\"\u001b[39m\u001b[39mF1: \u001b[39m\u001b[39m{:.5f}\u001b[39;00m\u001b[39m ± \u001b[39m\u001b[39m{:.5f}\u001b[39;00m\u001b[39m\"\u001b[39m\u001b[39m.\u001b[39mformat(np\u001b[39m.\u001b[39mmean(scores), np\u001b[39m.\u001b[39mstd(scores)))\n",
      "\u001b[1;32m/Users/kvu/github/AML-HS22/task2/modeling.ipynb Cell 8\u001b[0m in \u001b[0;36mTaskSolver._cross_validation\u001b[0;34m(self, model)\u001b[0m\n\u001b[1;32m    <a href='vscode-notebook-cell:/Users/kvu/github/AML-HS22/task2/modeling.ipynb#X10sZmlsZQ%3D%3D?line=161'>162</a>\u001b[0m x_val \u001b[39m=\u001b[39m \u001b[39mself\u001b[39m\u001b[39m.\u001b[39mfold_val_features[fold_nr]\n\u001b[1;32m    <a href='vscode-notebook-cell:/Users/kvu/github/AML-HS22/task2/modeling.ipynb#X10sZmlsZQ%3D%3D?line=162'>163</a>\u001b[0m y_val \u001b[39m=\u001b[39m \u001b[39mself\u001b[39m\u001b[39m.\u001b[39mfold_val_targets[fold_nr]\n\u001b[0;32m--> <a href='vscode-notebook-cell:/Users/kvu/github/AML-HS22/task2/modeling.ipynb#X10sZmlsZQ%3D%3D?line=163'>164</a>\u001b[0m model \u001b[39m=\u001b[39m model\u001b[39m.\u001b[39;49mfit(x_train, y_train, sample_weight\u001b[39m=\u001b[39;49msample_weight)\n\u001b[1;32m    <a href='vscode-notebook-cell:/Users/kvu/github/AML-HS22/task2/modeling.ipynb#X10sZmlsZQ%3D%3D?line=164'>165</a>\u001b[0m pred_val \u001b[39m=\u001b[39m model\u001b[39m.\u001b[39mpredict(x_val)\n\u001b[1;32m    <a href='vscode-notebook-cell:/Users/kvu/github/AML-HS22/task2/modeling.ipynb#X10sZmlsZQ%3D%3D?line=165'>166</a>\u001b[0m scores\u001b[39m.\u001b[39mappend(f1_score(y_val, pred_val, average\u001b[39m=\u001b[39m\u001b[39m'\u001b[39m\u001b[39mmicro\u001b[39m\u001b[39m'\u001b[39m))\n",
      "File \u001b[0;32m~/opt/anaconda3/lib/python3.9/site-packages/sklearn/ensemble/_forest.py:476\u001b[0m, in \u001b[0;36mBaseForest.fit\u001b[0;34m(self, X, y, sample_weight)\u001b[0m\n\u001b[1;32m    465\u001b[0m trees \u001b[39m=\u001b[39m [\n\u001b[1;32m    466\u001b[0m     \u001b[39mself\u001b[39m\u001b[39m.\u001b[39m_make_estimator(append\u001b[39m=\u001b[39m\u001b[39mFalse\u001b[39;00m, random_state\u001b[39m=\u001b[39mrandom_state)\n\u001b[1;32m    467\u001b[0m     \u001b[39mfor\u001b[39;00m i \u001b[39min\u001b[39;00m \u001b[39mrange\u001b[39m(n_more_estimators)\n\u001b[1;32m    468\u001b[0m ]\n\u001b[1;32m    470\u001b[0m \u001b[39m# Parallel loop: we prefer the threading backend as the Cython code\u001b[39;00m\n\u001b[1;32m    471\u001b[0m \u001b[39m# for fitting the trees is internally releasing the Python GIL\u001b[39;00m\n\u001b[1;32m    472\u001b[0m \u001b[39m# making threading more efficient than multiprocessing in\u001b[39;00m\n\u001b[1;32m    473\u001b[0m \u001b[39m# that case. However, for joblib 0.12+ we respect any\u001b[39;00m\n\u001b[1;32m    474\u001b[0m \u001b[39m# parallel_backend contexts set at a higher level,\u001b[39;00m\n\u001b[1;32m    475\u001b[0m \u001b[39m# since correctness does not rely on using threads.\u001b[39;00m\n\u001b[0;32m--> 476\u001b[0m trees \u001b[39m=\u001b[39m Parallel(\n\u001b[1;32m    477\u001b[0m     n_jobs\u001b[39m=\u001b[39;49m\u001b[39mself\u001b[39;49m\u001b[39m.\u001b[39;49mn_jobs,\n\u001b[1;32m    478\u001b[0m     verbose\u001b[39m=\u001b[39;49m\u001b[39mself\u001b[39;49m\u001b[39m.\u001b[39;49mverbose,\n\u001b[1;32m    479\u001b[0m     prefer\u001b[39m=\u001b[39;49m\u001b[39m\"\u001b[39;49m\u001b[39mthreads\u001b[39;49m\u001b[39m\"\u001b[39;49m,\n\u001b[1;32m    480\u001b[0m )(\n\u001b[1;32m    481\u001b[0m     delayed(_parallel_build_trees)(\n\u001b[1;32m    482\u001b[0m         t,\n\u001b[1;32m    483\u001b[0m         \u001b[39mself\u001b[39;49m\u001b[39m.\u001b[39;49mbootstrap,\n\u001b[1;32m    484\u001b[0m         X,\n\u001b[1;32m    485\u001b[0m         y,\n\u001b[1;32m    486\u001b[0m         sample_weight,\n\u001b[1;32m    487\u001b[0m         i,\n\u001b[1;32m    488\u001b[0m         \u001b[39mlen\u001b[39;49m(trees),\n\u001b[1;32m    489\u001b[0m         verbose\u001b[39m=\u001b[39;49m\u001b[39mself\u001b[39;49m\u001b[39m.\u001b[39;49mverbose,\n\u001b[1;32m    490\u001b[0m         class_weight\u001b[39m=\u001b[39;49m\u001b[39mself\u001b[39;49m\u001b[39m.\u001b[39;49mclass_weight,\n\u001b[1;32m    491\u001b[0m         n_samples_bootstrap\u001b[39m=\u001b[39;49mn_samples_bootstrap,\n\u001b[1;32m    492\u001b[0m     )\n\u001b[1;32m    493\u001b[0m     \u001b[39mfor\u001b[39;49;00m i, t \u001b[39min\u001b[39;49;00m \u001b[39menumerate\u001b[39;49m(trees)\n\u001b[1;32m    494\u001b[0m )\n\u001b[1;32m    496\u001b[0m \u001b[39m# Collect newly grown trees\u001b[39;00m\n\u001b[1;32m    497\u001b[0m \u001b[39mself\u001b[39m\u001b[39m.\u001b[39mestimators_\u001b[39m.\u001b[39mextend(trees)\n",
      "File \u001b[0;32m~/opt/anaconda3/lib/python3.9/site-packages/joblib/parallel.py:1046\u001b[0m, in \u001b[0;36mParallel.__call__\u001b[0;34m(self, iterable)\u001b[0m\n\u001b[1;32m   1043\u001b[0m \u001b[39mif\u001b[39;00m \u001b[39mself\u001b[39m\u001b[39m.\u001b[39mdispatch_one_batch(iterator):\n\u001b[1;32m   1044\u001b[0m     \u001b[39mself\u001b[39m\u001b[39m.\u001b[39m_iterating \u001b[39m=\u001b[39m \u001b[39mself\u001b[39m\u001b[39m.\u001b[39m_original_iterator \u001b[39mis\u001b[39;00m \u001b[39mnot\u001b[39;00m \u001b[39mNone\u001b[39;00m\n\u001b[0;32m-> 1046\u001b[0m \u001b[39mwhile\u001b[39;00m \u001b[39mself\u001b[39;49m\u001b[39m.\u001b[39;49mdispatch_one_batch(iterator):\n\u001b[1;32m   1047\u001b[0m     \u001b[39mpass\u001b[39;00m\n\u001b[1;32m   1049\u001b[0m \u001b[39mif\u001b[39;00m pre_dispatch \u001b[39m==\u001b[39m \u001b[39m\"\u001b[39m\u001b[39mall\u001b[39m\u001b[39m\"\u001b[39m \u001b[39mor\u001b[39;00m n_jobs \u001b[39m==\u001b[39m \u001b[39m1\u001b[39m:\n\u001b[1;32m   1050\u001b[0m     \u001b[39m# The iterable was consumed all at once by the above for loop.\u001b[39;00m\n\u001b[1;32m   1051\u001b[0m     \u001b[39m# No need to wait for async callbacks to trigger to\u001b[39;00m\n\u001b[1;32m   1052\u001b[0m     \u001b[39m# consumption.\u001b[39;00m\n",
      "File \u001b[0;32m~/opt/anaconda3/lib/python3.9/site-packages/joblib/parallel.py:861\u001b[0m, in \u001b[0;36mParallel.dispatch_one_batch\u001b[0;34m(self, iterator)\u001b[0m\n\u001b[1;32m    859\u001b[0m     \u001b[39mreturn\u001b[39;00m \u001b[39mFalse\u001b[39;00m\n\u001b[1;32m    860\u001b[0m \u001b[39melse\u001b[39;00m:\n\u001b[0;32m--> 861\u001b[0m     \u001b[39mself\u001b[39;49m\u001b[39m.\u001b[39;49m_dispatch(tasks)\n\u001b[1;32m    862\u001b[0m     \u001b[39mreturn\u001b[39;00m \u001b[39mTrue\u001b[39;00m\n",
      "File \u001b[0;32m~/opt/anaconda3/lib/python3.9/site-packages/joblib/parallel.py:779\u001b[0m, in \u001b[0;36mParallel._dispatch\u001b[0;34m(self, batch)\u001b[0m\n\u001b[1;32m    777\u001b[0m \u001b[39mwith\u001b[39;00m \u001b[39mself\u001b[39m\u001b[39m.\u001b[39m_lock:\n\u001b[1;32m    778\u001b[0m     job_idx \u001b[39m=\u001b[39m \u001b[39mlen\u001b[39m(\u001b[39mself\u001b[39m\u001b[39m.\u001b[39m_jobs)\n\u001b[0;32m--> 779\u001b[0m     job \u001b[39m=\u001b[39m \u001b[39mself\u001b[39;49m\u001b[39m.\u001b[39;49m_backend\u001b[39m.\u001b[39;49mapply_async(batch, callback\u001b[39m=\u001b[39;49mcb)\n\u001b[1;32m    780\u001b[0m     \u001b[39m# A job can complete so quickly than its callback is\u001b[39;00m\n\u001b[1;32m    781\u001b[0m     \u001b[39m# called before we get here, causing self._jobs to\u001b[39;00m\n\u001b[1;32m    782\u001b[0m     \u001b[39m# grow. To ensure correct results ordering, .insert is\u001b[39;00m\n\u001b[1;32m    783\u001b[0m     \u001b[39m# used (rather than .append) in the following line\u001b[39;00m\n\u001b[1;32m    784\u001b[0m     \u001b[39mself\u001b[39m\u001b[39m.\u001b[39m_jobs\u001b[39m.\u001b[39minsert(job_idx, job)\n",
      "File \u001b[0;32m~/opt/anaconda3/lib/python3.9/site-packages/joblib/_parallel_backends.py:208\u001b[0m, in \u001b[0;36mSequentialBackend.apply_async\u001b[0;34m(self, func, callback)\u001b[0m\n\u001b[1;32m    206\u001b[0m \u001b[39mdef\u001b[39;00m \u001b[39mapply_async\u001b[39m(\u001b[39mself\u001b[39m, func, callback\u001b[39m=\u001b[39m\u001b[39mNone\u001b[39;00m):\n\u001b[1;32m    207\u001b[0m     \u001b[39m\"\"\"Schedule a func to be run\"\"\"\u001b[39;00m\n\u001b[0;32m--> 208\u001b[0m     result \u001b[39m=\u001b[39m ImmediateResult(func)\n\u001b[1;32m    209\u001b[0m     \u001b[39mif\u001b[39;00m callback:\n\u001b[1;32m    210\u001b[0m         callback(result)\n",
      "File \u001b[0;32m~/opt/anaconda3/lib/python3.9/site-packages/joblib/_parallel_backends.py:572\u001b[0m, in \u001b[0;36mImmediateResult.__init__\u001b[0;34m(self, batch)\u001b[0m\n\u001b[1;32m    569\u001b[0m \u001b[39mdef\u001b[39;00m \u001b[39m__init__\u001b[39m(\u001b[39mself\u001b[39m, batch):\n\u001b[1;32m    570\u001b[0m     \u001b[39m# Don't delay the application, to avoid keeping the input\u001b[39;00m\n\u001b[1;32m    571\u001b[0m     \u001b[39m# arguments in memory\u001b[39;00m\n\u001b[0;32m--> 572\u001b[0m     \u001b[39mself\u001b[39m\u001b[39m.\u001b[39mresults \u001b[39m=\u001b[39m batch()\n",
      "File \u001b[0;32m~/opt/anaconda3/lib/python3.9/site-packages/joblib/parallel.py:262\u001b[0m, in \u001b[0;36mBatchedCalls.__call__\u001b[0;34m(self)\u001b[0m\n\u001b[1;32m    258\u001b[0m \u001b[39mdef\u001b[39;00m \u001b[39m__call__\u001b[39m(\u001b[39mself\u001b[39m):\n\u001b[1;32m    259\u001b[0m     \u001b[39m# Set the default nested backend to self._backend but do not set the\u001b[39;00m\n\u001b[1;32m    260\u001b[0m     \u001b[39m# change the default number of processes to -1\u001b[39;00m\n\u001b[1;32m    261\u001b[0m     \u001b[39mwith\u001b[39;00m parallel_backend(\u001b[39mself\u001b[39m\u001b[39m.\u001b[39m_backend, n_jobs\u001b[39m=\u001b[39m\u001b[39mself\u001b[39m\u001b[39m.\u001b[39m_n_jobs):\n\u001b[0;32m--> 262\u001b[0m         \u001b[39mreturn\u001b[39;00m [func(\u001b[39m*\u001b[39margs, \u001b[39m*\u001b[39m\u001b[39m*\u001b[39mkwargs)\n\u001b[1;32m    263\u001b[0m                 \u001b[39mfor\u001b[39;00m func, args, kwargs \u001b[39min\u001b[39;00m \u001b[39mself\u001b[39m\u001b[39m.\u001b[39mitems]\n",
      "File \u001b[0;32m~/opt/anaconda3/lib/python3.9/site-packages/joblib/parallel.py:262\u001b[0m, in \u001b[0;36m<listcomp>\u001b[0;34m(.0)\u001b[0m\n\u001b[1;32m    258\u001b[0m \u001b[39mdef\u001b[39;00m \u001b[39m__call__\u001b[39m(\u001b[39mself\u001b[39m):\n\u001b[1;32m    259\u001b[0m     \u001b[39m# Set the default nested backend to self._backend but do not set the\u001b[39;00m\n\u001b[1;32m    260\u001b[0m     \u001b[39m# change the default number of processes to -1\u001b[39;00m\n\u001b[1;32m    261\u001b[0m     \u001b[39mwith\u001b[39;00m parallel_backend(\u001b[39mself\u001b[39m\u001b[39m.\u001b[39m_backend, n_jobs\u001b[39m=\u001b[39m\u001b[39mself\u001b[39m\u001b[39m.\u001b[39m_n_jobs):\n\u001b[0;32m--> 262\u001b[0m         \u001b[39mreturn\u001b[39;00m [func(\u001b[39m*\u001b[39;49margs, \u001b[39m*\u001b[39;49m\u001b[39m*\u001b[39;49mkwargs)\n\u001b[1;32m    263\u001b[0m                 \u001b[39mfor\u001b[39;00m func, args, kwargs \u001b[39min\u001b[39;00m \u001b[39mself\u001b[39m\u001b[39m.\u001b[39mitems]\n",
      "File \u001b[0;32m~/opt/anaconda3/lib/python3.9/site-packages/sklearn/utils/fixes.py:117\u001b[0m, in \u001b[0;36m_FuncWrapper.__call__\u001b[0;34m(self, *args, **kwargs)\u001b[0m\n\u001b[1;32m    115\u001b[0m \u001b[39mdef\u001b[39;00m \u001b[39m__call__\u001b[39m(\u001b[39mself\u001b[39m, \u001b[39m*\u001b[39margs, \u001b[39m*\u001b[39m\u001b[39m*\u001b[39mkwargs):\n\u001b[1;32m    116\u001b[0m     \u001b[39mwith\u001b[39;00m config_context(\u001b[39m*\u001b[39m\u001b[39m*\u001b[39m\u001b[39mself\u001b[39m\u001b[39m.\u001b[39mconfig):\n\u001b[0;32m--> 117\u001b[0m         \u001b[39mreturn\u001b[39;00m \u001b[39mself\u001b[39;49m\u001b[39m.\u001b[39;49mfunction(\u001b[39m*\u001b[39;49margs, \u001b[39m*\u001b[39;49m\u001b[39m*\u001b[39;49mkwargs)\n",
      "File \u001b[0;32m~/opt/anaconda3/lib/python3.9/site-packages/sklearn/ensemble/_forest.py:189\u001b[0m, in \u001b[0;36m_parallel_build_trees\u001b[0;34m(tree, bootstrap, X, y, sample_weight, tree_idx, n_trees, verbose, class_weight, n_samples_bootstrap)\u001b[0m\n\u001b[1;32m    186\u001b[0m     \u001b[39melif\u001b[39;00m class_weight \u001b[39m==\u001b[39m \u001b[39m\"\u001b[39m\u001b[39mbalanced_subsample\u001b[39m\u001b[39m\"\u001b[39m:\n\u001b[1;32m    187\u001b[0m         curr_sample_weight \u001b[39m*\u001b[39m\u001b[39m=\u001b[39m compute_sample_weight(\u001b[39m\"\u001b[39m\u001b[39mbalanced\u001b[39m\u001b[39m\"\u001b[39m, y, indices\u001b[39m=\u001b[39mindices)\n\u001b[0;32m--> 189\u001b[0m     tree\u001b[39m.\u001b[39;49mfit(X, y, sample_weight\u001b[39m=\u001b[39;49mcurr_sample_weight, check_input\u001b[39m=\u001b[39;49m\u001b[39mFalse\u001b[39;49;00m)\n\u001b[1;32m    190\u001b[0m \u001b[39melse\u001b[39;00m:\n\u001b[1;32m    191\u001b[0m     tree\u001b[39m.\u001b[39mfit(X, y, sample_weight\u001b[39m=\u001b[39msample_weight, check_input\u001b[39m=\u001b[39m\u001b[39mFalse\u001b[39;00m)\n",
      "File \u001b[0;32m~/opt/anaconda3/lib/python3.9/site-packages/sklearn/tree/_classes.py:969\u001b[0m, in \u001b[0;36mDecisionTreeClassifier.fit\u001b[0;34m(self, X, y, sample_weight, check_input)\u001b[0m\n\u001b[1;32m    939\u001b[0m \u001b[39mdef\u001b[39;00m \u001b[39mfit\u001b[39m(\u001b[39mself\u001b[39m, X, y, sample_weight\u001b[39m=\u001b[39m\u001b[39mNone\u001b[39;00m, check_input\u001b[39m=\u001b[39m\u001b[39mTrue\u001b[39;00m):\n\u001b[1;32m    940\u001b[0m     \u001b[39m\"\"\"Build a decision tree classifier from the training set (X, y).\u001b[39;00m\n\u001b[1;32m    941\u001b[0m \n\u001b[1;32m    942\u001b[0m \u001b[39m    Parameters\u001b[39;00m\n\u001b[0;32m   (...)\u001b[0m\n\u001b[1;32m    966\u001b[0m \u001b[39m        Fitted estimator.\u001b[39;00m\n\u001b[1;32m    967\u001b[0m \u001b[39m    \"\"\"\u001b[39;00m\n\u001b[0;32m--> 969\u001b[0m     \u001b[39msuper\u001b[39;49m()\u001b[39m.\u001b[39;49mfit(\n\u001b[1;32m    970\u001b[0m         X,\n\u001b[1;32m    971\u001b[0m         y,\n\u001b[1;32m    972\u001b[0m         sample_weight\u001b[39m=\u001b[39;49msample_weight,\n\u001b[1;32m    973\u001b[0m         check_input\u001b[39m=\u001b[39;49mcheck_input,\n\u001b[1;32m    974\u001b[0m     )\n\u001b[1;32m    975\u001b[0m     \u001b[39mreturn\u001b[39;00m \u001b[39mself\u001b[39m\n",
      "File \u001b[0;32m~/opt/anaconda3/lib/python3.9/site-packages/sklearn/tree/_classes.py:458\u001b[0m, in \u001b[0;36mBaseDecisionTree.fit\u001b[0;34m(self, X, y, sample_weight, check_input)\u001b[0m\n\u001b[1;32m    447\u001b[0m \u001b[39melse\u001b[39;00m:\n\u001b[1;32m    448\u001b[0m     builder \u001b[39m=\u001b[39m BestFirstTreeBuilder(\n\u001b[1;32m    449\u001b[0m         splitter,\n\u001b[1;32m    450\u001b[0m         min_samples_split,\n\u001b[0;32m   (...)\u001b[0m\n\u001b[1;32m    455\u001b[0m         \u001b[39mself\u001b[39m\u001b[39m.\u001b[39mmin_impurity_decrease,\n\u001b[1;32m    456\u001b[0m     )\n\u001b[0;32m--> 458\u001b[0m builder\u001b[39m.\u001b[39;49mbuild(\u001b[39mself\u001b[39;49m\u001b[39m.\u001b[39;49mtree_, X, y, sample_weight)\n\u001b[1;32m    460\u001b[0m \u001b[39mif\u001b[39;00m \u001b[39mself\u001b[39m\u001b[39m.\u001b[39mn_outputs_ \u001b[39m==\u001b[39m \u001b[39m1\u001b[39m \u001b[39mand\u001b[39;00m is_classifier(\u001b[39mself\u001b[39m):\n\u001b[1;32m    461\u001b[0m     \u001b[39mself\u001b[39m\u001b[39m.\u001b[39mn_classes_ \u001b[39m=\u001b[39m \u001b[39mself\u001b[39m\u001b[39m.\u001b[39mn_classes_[\u001b[39m0\u001b[39m]\n",
      "\u001b[0;31mKeyboardInterrupt\u001b[0m: "
     ]
    }
   ],
   "source": [
    "def objective(trial):\n",
    "    # model = XGBClassifier(\n",
    "    #     **{\n",
    "    #         'objective': 'multi:softmax',\n",
    "    #         'tree_method': 'auto',\n",
    "    #         'random_state': SEED,\n",
    "    #         'lambda': trial.suggest_float(\n",
    "    #             'lambda', 0.1, 100.0\n",
    "    #         ),\n",
    "    #         'alpha': trial.suggest_float(\n",
    "    #             'alpha', 1e-3, 10.0\n",
    "    #         ),\n",
    "    #         'colsample_bytree': trial.suggest_categorical(\n",
    "    #             'colsample_bytree', [0.5, 0.6, 0.7, 0.8, 0.9, 1.0]\n",
    "    #         ),\n",
    "    #         'colsample_bylevel': trial.suggest_categorical(\n",
    "    #             'colsample_bylevel', [0.5, 0.6, 0.7, 0.8, 0.9, 1.0]\n",
    "    #         ),\n",
    "    #         'subsample': trial.suggest_categorical(\n",
    "    #             'subsample', [0.5, 0.6, 0.7, 0.8, 0.9, 1.0]\n",
    "    #         ),\n",
    "    #         'learning_rate': trial.suggest_float(\n",
    "    #             'learning_rate', 1e-3, 0.5\n",
    "    #         ),\n",
    "    #         'n_estimators': trial.suggest_categorical(\n",
    "    #             \"n_estimators\", [50, 100, 150, 300, 500, 1000, 3000]\n",
    "    #         ),\n",
    "    #         'max_depth': trial.suggest_int(\n",
    "    #             'max_depth', 5, 15\n",
    "    #         ),\n",
    "    #         'min_child_weight': trial.suggest_int(\n",
    "    #             'min_child_weight', 1, 50\n",
    "    #         ),\n",
    "    #     }\n",
    "    # )\n",
    "\n",
    "    model = RandomForestClassifier(\n",
    "        **{\n",
    "            'bootstrap': trial.suggest_categorical(\"bootstrap\", [True, False]),\n",
    "            'max_depth': trial.suggest_categorical(\"max_depth\", [10, 50, 100, 150, 200]),\n",
    "            'max_features': trial.suggest_categorical(\"max_features\", [\"sqrt\", \"log2\"]),\n",
    "            'min_samples_leaf': trial.suggest_int(\"min_samples_leaf\", 1, 10),\n",
    "            'min_samples_split': trial.suggest_int(\"min_samples_split\", 2, 10),\n",
    "            'n_estimators': trial.suggest_categorical(\"n_estimators\", [10, 50, 100, 150, 300, 500, 1000]),\n",
    "        },\n",
    "        random_state=SEED\n",
    "    )\n",
    "\n",
    "    cv_score = solver.train(model, verbose=False)\n",
    "    return cv_score\n",
    "\n",
    "study = optuna.create_study(direction=\"maximize\")\n",
    "\n",
    "study.optimize(objective, n_trials=100)"
   ]
  },
  {
   "cell_type": "code",
   "execution_count": 120,
   "metadata": {},
   "outputs": [
    {
     "data": {
      "text/plain": [
       "{'lambda': 8.204888056119929,\n",
       " 'alpha': 1.602247689318723,\n",
       " 'colsample_bytree': 0.7,\n",
       " 'colsample_bylevel': 1.0,\n",
       " 'subsample': 0.9,\n",
       " 'learning_rate': 0.37830598406476423,\n",
       " 'n_estimators': 500,\n",
       " 'max_depth': 13,\n",
       " 'min_child_weight': 3}"
      ]
     },
     "execution_count": 120,
     "metadata": {},
     "output_type": "execute_result"
    }
   ],
   "source": [
    "study.best_params"
   ]
  },
  {
   "cell_type": "code",
   "execution_count": null,
   "metadata": {},
   "outputs": [],
   "source": [
    "from optuna.visualization import plot_contour\n",
    "from optuna.visualization import plot_edf\n",
    "from optuna.visualization import plot_intermediate_values\n",
    "from optuna.visualization import plot_optimization_history\n",
    "from optuna.visualization import plot_parallel_coordinate\n",
    "from optuna.visualization import plot_param_importances\n",
    "from optuna.visualization import plot_slice"
   ]
  },
  {
   "cell_type": "code",
   "execution_count": null,
   "metadata": {},
   "outputs": [
    {
     "data": {
      "application/vnd.plotly.v1+json": {
       "config": {
        "plotlyServerURL": "https://plot.ly"
       },
       "data": [
        {
         "dimensions": [
          {
           "label": "Objective Value",
           "range": [
            0.7197986700856198,
            0.7945887103956882
           ],
           "values": [
            0.7647936513424999,
            0.7316375553808389,
            0.765962537507583,
            0.7847334429342114,
            0.7888721918462795,
            0.7642132066650523,
            0.7866972876224649,
            0.764198463842017,
            0.7622129927416379,
            0.7661687063987925,
            0.7639860596897611,
            0.7835397074424384,
            0.7945887103956882,
            0.7876914834871478,
            0.787285520643877,
            0.7803846080295779,
            0.7894623719536826,
            0.7823562639911695,
            0.7847246810472515,
            0.7452497160904045,
            0.785711482571043,
            0.7910457514533994,
            0.7872940740646136,
            0.788871612306357,
            0.785715793675472,
            0.7866920717631618,
            0.7865016192379831,
            0.7912489997156223,
            0.7645917706263456,
            0.7649708911981875,
            0.781958483494936,
            0.7742567481701195,
            0.782555247007711,
            0.7815622560816209,
            0.7902486144486407,
            0.7724976818976332,
            0.7827493623092747,
            0.7470114715962802,
            0.7926158953542514,
            0.7318324816179224,
            0.7197986700856198,
            0.7438715777976495,
            0.7458420288206484,
            0.7428946513819155,
            0.756106921901781,
            0.7936250195788191,
            0.7908428742648757,
            0.7906598160805884,
            0.7916549396295193,
            0.7910356220203709,
            0.7857268507927483,
            0.7908500601395437,
            0.7902443492029593,
            0.7878848566413132,
            0.789858205363925,
            0.7902556147864592,
            0.7926149447406295,
            0.7920338975938855,
            0.7888927759272881,
            0.7788074408615338,
            0.7653783841950027,
            0.7649885775795836,
            0.7790023670986169,
            0.7768274858041763,
            0.7523525094208581,
            0.789657854801315,
            0.7855056847535324,
            0.7902499590653355,
            0.7789996549358538,
            0.788886378058766,
            0.7898630730789028,
            0.7884798586049466,
            0.7831419269462049,
            0.7916236695049333,
            0.7900535026747076,
            0.788477703052732,
            0.7898566522810069,
            0.7886784705477887,
            0.7681378128050969,
            0.7610552095525789,
            0.7365600430913251,
            0.7752443147706829,
            0.7768276942703998,
            0.7764536040210113,
            0.7582833104203923,
            0.7752487655532139,
            0.7785869460797356,
            0.7697169270591322,
            0.78867791393724,
            0.7742620098881701,
            0.777229925549164,
            0.7541560584874213,
            0.764206577400933,
            0.7764209663503567,
            0.7792101120021186,
            0.7756549368627081,
            0.7827620183682168,
            0.7602475949704663,
            0.7350126158943225,
            0.7815766278309569
           ]
          },
          {
           "label": "alpha",
           "range": [
            0.18913807415885397,
            9.78184120337665
           ],
           "values": [
            4.163763701367284,
            8.934610781084293,
            3.283323260329759,
            4.516109054491178,
            4.753641232279348,
            1.9180159042062819,
            5.173636520216775,
            5.3561933878677115,
            2.064416671797253,
            9.78184120337665,
            4.898713986058615,
            4.3340486597669505,
            5.418324477542185,
            5.415506724439776,
            5.976811057041492,
            4.495192899256945,
            4.273219321099699,
            3.685462147605848,
            3.8596172228576098,
            2.809819090018391,
            3.768861247621398,
            3.115633796081574,
            2.989942240217636,
            2.892786434675075,
            2.961346705209542,
            2.885472946545879,
            3.0490835144578257,
            4.297708418804108,
            4.248582426266687,
            7.976210598384087,
            3.508095763495594,
            3.279719450789538,
            2.5542941885776456,
            2.6562500719258524,
            3.628468868460825,
            3.8828232912724303,
            2.3715982384751655,
            2.2839625256565936,
            2.8377103122087264,
            8.123375434653465,
            7.326724225736525,
            2.580679676811033,
            6.885010143164914,
            8.675763907204422,
            2.517505568327497,
            3.3815331720180226,
            3.21262065623167,
            3.2240488663002944,
            3.1804741397525738,
            3.4092642136063973,
            3.1762346963259938,
            2.324208294370954,
            2.662185684801684,
            2.221404678014319,
            3.382351245452047,
            1.9739141241500997,
            1.7652418741859137,
            2.745691386876679,
            1.478417752316421,
            6.245532717996397,
            7.328919625218896,
            4.620263738040819,
            6.929699562188051,
            4.5140196577659015,
            5.009859409487613,
            4.03709274132177,
            5.749710633114944,
            4.814673106102957,
            5.532148358132327,
            3.433826928902791,
            4.092135764197168,
            3.8994998666850766,
            4.714597161086664,
            4.070638419214154,
            4.004684792174956,
            3.557572491136421,
            4.138339950538537,
            4.961893720731222,
            3.2411400199039844,
            5.824201952285687,
            5.093635165578273,
            5.50549537144426,
            0.18913807415885397,
            0.8820751143514372,
            0.22386580917724075,
            3.489834238613459,
            1.5106990841630954,
            1.1986843943921226,
            2.6259823313234802,
            4.140101681593764,
            5.227064425140901,
            6.364155938056872,
            4.11203719141148,
            6.61352831885736,
            4.661632671371479,
            5.978673453940624,
            1.9714138764251228,
            1.6398466758198107,
            4.799125481091447,
            6.595875439080873
           ]
          },
          {
           "label": "colsample_bylevel",
           "range": [
            0,
            5
           ],
           "ticktext": [
            "0.5",
            "0.6",
            "0.7",
            "0.8",
            "0.9",
            "1.0"
           ],
           "tickvals": [
            0,
            1,
            2,
            3,
            4,
            5
           ],
           "values": [
            0,
            0,
            0,
            0,
            0,
            0,
            1,
            1,
            1,
            1,
            1,
            2,
            2,
            2,
            2,
            2,
            2,
            2,
            2,
            2,
            2,
            2,
            2,
            2,
            2,
            2,
            2,
            2,
            2,
            2,
            2,
            2,
            2,
            2,
            2,
            2,
            2,
            2,
            2,
            2,
            2,
            2,
            3,
            3,
            3,
            3,
            3,
            3,
            3,
            3,
            3,
            3,
            3,
            3,
            3,
            3,
            3,
            3,
            3,
            3,
            3,
            4,
            4,
            4,
            4,
            4,
            4,
            4,
            4,
            4,
            4,
            4,
            4,
            4,
            4,
            4,
            4,
            4,
            4,
            4,
            4,
            5,
            5,
            5,
            5,
            5,
            5,
            5,
            5,
            5,
            5,
            5,
            5,
            5,
            5,
            5,
            5,
            5,
            5,
            5
           ]
          },
          {
           "label": "colsample_bytree",
           "range": [
            0,
            5
           ],
           "ticktext": [
            "0.5",
            "0.6",
            "0.7",
            "0.8",
            "0.9",
            "1.0"
           ],
           "tickvals": [
            0,
            1,
            2,
            3,
            4,
            5
           ],
           "values": [
            1,
            1,
            3,
            3,
            3,
            5,
            1,
            2,
            4,
            5,
            5,
            1,
            1,
            1,
            1,
            1,
            1,
            1,
            1,
            2,
            2,
            2,
            2,
            2,
            2,
            2,
            2,
            2,
            2,
            2,
            2,
            2,
            2,
            2,
            2,
            2,
            2,
            2,
            2,
            3,
            5,
            5,
            1,
            2,
            2,
            2,
            2,
            2,
            2,
            2,
            2,
            2,
            2,
            2,
            2,
            2,
            2,
            2,
            2,
            4,
            5,
            1,
            3,
            3,
            3,
            3,
            3,
            3,
            3,
            3,
            3,
            3,
            3,
            3,
            3,
            3,
            3,
            3,
            3,
            4,
            5,
            0,
            0,
            0,
            0,
            0,
            0,
            0,
            2,
            3,
            4,
            4,
            4,
            4,
            5,
            5,
            5,
            5,
            5,
            5
           ]
          },
          {
           "label": "lambda",
           "range": [
            0.0021989847052012682,
            9.99270019199707
           ],
           "values": [
            4.922567013842981,
            8.167740708268564,
            4.607530354902267,
            9.507276700359768,
            8.406081160048448,
            1.91995168607194,
            8.568458375184907,
            9.343255357891543,
            4.62820934784979,
            3.482674543833584,
            1.6362926944994096,
            8.748095671933386,
            9.923612661555456,
            9.772137793557334,
            7.82566863252752,
            9.384047802860131,
            7.862853168461477,
            7.778768849664425,
            7.097112479037705,
            6.897356840576098,
            8.409367240471102,
            7.645693032149996,
            8.281687106310912,
            7.967544216904081,
            7.7447195116589285,
            8.979630339533323,
            7.36636885072612,
            8.261913515097573,
            9.002019879725163,
            7.14924596789706,
            4.0221927245990505,
            4.033766351143358,
            5.421152583176502,
            5.701778595579787,
            6.541131312556141,
            6.863851123745264,
            6.312759148903749,
            6.5586273179992345,
            7.92844268986917,
            5.178794568551025,
            2.156585547575998,
            2.046249111151647,
            7.431486273026962,
            1.4530039228032186,
            3.076254028626759,
            9.067497838332962,
            9.591447504360998,
            9.65697502355548,
            9.548516992212916,
            9.562787018742089,
            9.592436444435576,
            9.091526788846657,
            9.136951791424996,
            9.027311217015011,
            9.26291431634991,
            8.501616779645529,
            9.50519251092673,
            8.983210067421668,
            9.768705870992457,
            9.212520292388655,
            2.4690031496576768,
            1.1654208217901882,
            8.817880532709037,
            7.604195401607961,
            9.97468885409694,
            8.096134733250334,
            7.3531158932946,
            9.951392800279494,
            9.173064803367195,
            9.517416279449447,
            8.774285269633818,
            8.78433232121802,
            8.123757611580816,
            9.499014203529772,
            8.108022493348765,
            9.99270019199707,
            6.68335010927143,
            8.551152117374743,
            9.718852247020813,
            2.7284084391672696,
            1.593994481070071,
            0.4526297163339808,
            0.07513047454282207,
            0.8312690253510597,
            0.1690659507112389,
            0.9766575136610047,
            0.5046784446934022,
            0.6050382574251444,
            3.1351421653136553,
            3.3685145643933665,
            0.011778038554456582,
            0.8256074847236671,
            9.788275932646293,
            0.0021989847052012682,
            2.5681003809658636,
            3.8191256163671463,
            1.9695431685211506,
            5.842433146024088,
            2.8170127587536937,
            0.7329898296607501
           ]
          },
          {
           "label": "learning_rate",
           "range": [
            0.00888342865944644,
            0.4998308324772658
           ],
           "values": [
            0.43652756627722905,
            0.4998308324772658,
            0.47450040551698847,
            0.16111838866489026,
            0.08996690729947703,
            0.4419588035875295,
            0.08830334472026602,
            0.09949476190727169,
            0.16445645542795315,
            0.37853985151361524,
            0.4199453315524834,
            0.18518825645962111,
            0.18064417953631107,
            0.22661139809826153,
            0.18267607560807825,
            0.047355443310325554,
            0.17813541804463506,
            0.12181417273009087,
            0.01106998715191905,
            0.2566920013589972,
            0.03847160723543398,
            0.07352910491991609,
            0.07363898277273166,
            0.08531306833082684,
            0.09040555999841957,
            0.07817397021925625,
            0.03212876903148941,
            0.12239164505106845,
            0.14163347057823886,
            0.11109557267030742,
            0.11168341124237724,
            0.09983872051459351,
            0.14337063847551956,
            0.1253139935628598,
            0.07894802088167467,
            0.00888342865944644,
            0.0642006481901933,
            0.060633311479020825,
            0.07620635159390715,
            0.03371835306898412,
            0.06343709914113353,
            0.2021231672419063,
            0.4614615412244767,
            0.4032539080786822,
            0.16250993188862306,
            0.17139671883164342,
            0.17413701491050967,
            0.17124967651201525,
            0.17119338460869882,
            0.1682795520927492,
            0.17472894000921357,
            0.19913282052189266,
            0.19113494211314463,
            0.2158843751310209,
            0.23911637374149586,
            0.1985547476963183,
            0.15832680743865207,
            0.1589876814940341,
            0.16346224536731077,
            0.022971142292497373,
            0.35701134473046897,
            0.2884985427928722,
            0.1498859437395297,
            0.0708584571967155,
            0.1301181624637978,
            0.10530846571875613,
            0.1064081433595725,
            0.12954106170090213,
            0.05132540551194305,
            0.2031837327955235,
            0.18505445835785614,
            0.21848765782539306,
            0.2460342821102873,
            0.11539832852289933,
            0.06884367822988013,
            0.054271808600144925,
            0.11933030457102586,
            0.1130401522496478,
            0.13665785537419187,
            0.3238960152741189,
            0.28720460388394115,
            0.3253061452826569,
            0.320142147341124,
            0.32738920264940724,
            0.30926431049080383,
            0.22390870343153743,
            0.3386559869336331,
            0.35002409915125815,
            0.15120885368301482,
            0.36418288227999296,
            0.3362427334742404,
            0.2697948283812083,
            0.20605955020363,
            0.39149155619781695,
            0.3553611305992867,
            0.43652125199968117,
            0.4127897194825173,
            0.40961980363144535,
            0.3621430177567765,
            0.33993427180116687
           ]
          },
          {
           "label": "max_depth",
           "range": [
            5,
            20
           ],
           "values": [
            7,
            19,
            14,
            10,
            7,
            9,
            6,
            7,
            9,
            10,
            14,
            5,
            7,
            7,
            7,
            6,
            5,
            5,
            5,
            10,
            7,
            6,
            6,
            6,
            6,
            5,
            6,
            6,
            8,
            17,
            12,
            12,
            9,
            9,
            7,
            7,
            8,
            6,
            8,
            17,
            17,
            19,
            12,
            20,
            10,
            9,
            10,
            9,
            10,
            11,
            11,
            11,
            11,
            12,
            10,
            10,
            10,
            11,
            13,
            10,
            11,
            16,
            9,
            5,
            8,
            7,
            7,
            8,
            20,
            7,
            5,
            6,
            8,
            10,
            7,
            6,
            8,
            8,
            9,
            14,
            15,
            6,
            5,
            5,
            12,
            13,
            8,
            7,
            8,
            11,
            13,
            15,
            13,
            8,
            15,
            16,
            11,
            11,
            15,
            13
           ]
          },
          {
           "label": "min_child_weight",
           "range": [
            1,
            298
           ],
           "values": [
            109,
            298,
            100,
            10,
            37,
            43,
            13,
            126,
            100,
            49,
            69,
            44,
            12,
            11,
            30,
            1,
            18,
            69,
            21,
            228,
            29,
            14,
            14,
            33,
            15,
            37,
            37,
            16,
            160,
            162,
            53,
            89,
            54,
            59,
            36,
            35,
            53,
            247,
            17,
            166,
            272,
            282,
            291,
            287,
            212,
            9,
            10,
            2,
            7,
            1,
            4,
            12,
            11,
            16,
            9,
            16,
            9,
            2,
            1,
            24,
            47,
            125,
            45,
            50,
            189,
            31,
            45,
            25,
            60,
            7,
            25,
            24,
            39,
            30,
            29,
            19,
            28,
            6,
            76,
            65,
            190,
            6,
            2,
            1,
            82,
            25,
            3,
            21,
            20,
            38,
            10,
            109,
            62,
            27,
            5,
            27,
            15,
            76,
            137,
            20
           ]
          },
          {
           "label": "n_estimators",
           "range": [
            0,
            6
           ],
           "ticktext": [
            "50",
            "100",
            "150",
            "300",
            "500",
            "1000",
            "3000"
           ],
           "tickvals": [
            0,
            1,
            2,
            3,
            4,
            5,
            6
           ],
           "values": [
            4,
            6,
            2,
            3,
            3,
            4,
            2,
            5,
            2,
            0,
            1,
            1,
            2,
            2,
            2,
            2,
            4,
            4,
            5,
            3,
            3,
            4,
            4,
            4,
            4,
            4,
            4,
            4,
            4,
            4,
            4,
            4,
            4,
            4,
            4,
            4,
            4,
            4,
            4,
            2,
            1,
            6,
            3,
            4,
            4,
            6,
            6,
            6,
            6,
            6,
            6,
            6,
            6,
            6,
            6,
            6,
            6,
            6,
            6,
            3,
            5,
            3,
            1,
            2,
            3,
            3,
            3,
            3,
            3,
            3,
            3,
            3,
            3,
            3,
            3,
            3,
            3,
            3,
            6,
            5,
            0,
            0,
            0,
            0,
            0,
            0,
            0,
            0,
            4,
            1,
            0,
            5,
            6,
            6,
            0,
            0,
            4,
            4,
            6,
            6
           ]
          },
          {
           "label": "subsample",
           "range": [
            0,
            5
           ],
           "ticktext": [
            "0.5",
            "0.6",
            "0.7",
            "0.8",
            "0.9",
            "1.0"
           ],
           "tickvals": [
            0,
            1,
            2,
            3,
            4,
            5
           ],
           "values": [
            4,
            2,
            3,
            4,
            4,
            2,
            4,
            3,
            1,
            1,
            1,
            4,
            4,
            4,
            4,
            4,
            4,
            4,
            3,
            3,
            4,
            4,
            4,
            4,
            4,
            4,
            4,
            4,
            4,
            5,
            5,
            5,
            5,
            5,
            5,
            5,
            5,
            5,
            5,
            3,
            4,
            4,
            5,
            4,
            5,
            5,
            5,
            5,
            5,
            5,
            5,
            5,
            5,
            5,
            5,
            5,
            5,
            5,
            5,
            5,
            1,
            5,
            4,
            4,
            3,
            4,
            4,
            4,
            4,
            4,
            4,
            4,
            4,
            4,
            4,
            4,
            4,
            5,
            4,
            1,
            2,
            0,
            0,
            0,
            0,
            0,
            0,
            0,
            5,
            2,
            1,
            1,
            2,
            2,
            1,
            1,
            2,
            2,
            1,
            2
           ]
          }
         ],
         "labelangle": 30,
         "labelside": "bottom",
         "line": {
          "color": [
           0.7647936513424999,
           0.7316375553808389,
           0.765962537507583,
           0.7847334429342114,
           0.7888721918462795,
           0.7642132066650523,
           0.7866972876224649,
           0.764198463842017,
           0.7622129927416379,
           0.7661687063987925,
           0.7639860596897611,
           0.7835397074424384,
           0.7945887103956882,
           0.7876914834871478,
           0.787285520643877,
           0.7803846080295779,
           0.7894623719536826,
           0.7823562639911695,
           0.7847246810472515,
           0.7452497160904045,
           0.785711482571043,
           0.7910457514533994,
           0.7872940740646136,
           0.788871612306357,
           0.785715793675472,
           0.7866920717631618,
           0.7865016192379831,
           0.7912489997156223,
           0.7645917706263456,
           0.7649708911981875,
           0.781958483494936,
           0.7742567481701195,
           0.782555247007711,
           0.7815622560816209,
           0.7902486144486407,
           0.7724976818976332,
           0.7827493623092747,
           0.7470114715962802,
           0.7926158953542514,
           0.7318324816179224,
           0.7197986700856198,
           0.7438715777976495,
           0.7458420288206484,
           0.7428946513819155,
           0.756106921901781,
           0.7936250195788191,
           0.7908428742648757,
           0.7906598160805884,
           0.7916549396295193,
           0.7910356220203709,
           0.7857268507927483,
           0.7908500601395437,
           0.7902443492029593,
           0.7878848566413132,
           0.789858205363925,
           0.7902556147864592,
           0.7926149447406295,
           0.7920338975938855,
           0.7888927759272881,
           0.7788074408615338,
           0.7653783841950027,
           0.7649885775795836,
           0.7790023670986169,
           0.7768274858041763,
           0.7523525094208581,
           0.789657854801315,
           0.7855056847535324,
           0.7902499590653355,
           0.7789996549358538,
           0.788886378058766,
           0.7898630730789028,
           0.7884798586049466,
           0.7831419269462049,
           0.7916236695049333,
           0.7900535026747076,
           0.788477703052732,
           0.7898566522810069,
           0.7886784705477887,
           0.7681378128050969,
           0.7610552095525789,
           0.7365600430913251,
           0.7752443147706829,
           0.7768276942703998,
           0.7764536040210113,
           0.7582833104203923,
           0.7752487655532139,
           0.7785869460797356,
           0.7697169270591322,
           0.78867791393724,
           0.7742620098881701,
           0.777229925549164,
           0.7541560584874213,
           0.764206577400933,
           0.7764209663503567,
           0.7792101120021186,
           0.7756549368627081,
           0.7827620183682168,
           0.7602475949704663,
           0.7350126158943225,
           0.7815766278309569
          ],
          "colorbar": {
           "title": {
            "text": "Objective Value"
           }
          },
          "colorscale": [
           [
            0,
            "rgb(247,251,255)"
           ],
           [
            0.125,
            "rgb(222,235,247)"
           ],
           [
            0.25,
            "rgb(198,219,239)"
           ],
           [
            0.375,
            "rgb(158,202,225)"
           ],
           [
            0.5,
            "rgb(107,174,214)"
           ],
           [
            0.625,
            "rgb(66,146,198)"
           ],
           [
            0.75,
            "rgb(33,113,181)"
           ],
           [
            0.875,
            "rgb(8,81,156)"
           ],
           [
            1,
            "rgb(8,48,107)"
           ]
          ],
          "reversescale": false,
          "showscale": true
         },
         "type": "parcoords"
        }
       ],
       "layout": {
        "template": {
         "data": {
          "bar": [
           {
            "error_x": {
             "color": "#2a3f5f"
            },
            "error_y": {
             "color": "#2a3f5f"
            },
            "marker": {
             "line": {
              "color": "#E5ECF6",
              "width": 0.5
             },
             "pattern": {
              "fillmode": "overlay",
              "size": 10,
              "solidity": 0.2
             }
            },
            "type": "bar"
           }
          ],
          "barpolar": [
           {
            "marker": {
             "line": {
              "color": "#E5ECF6",
              "width": 0.5
             },
             "pattern": {
              "fillmode": "overlay",
              "size": 10,
              "solidity": 0.2
             }
            },
            "type": "barpolar"
           }
          ],
          "carpet": [
           {
            "aaxis": {
             "endlinecolor": "#2a3f5f",
             "gridcolor": "white",
             "linecolor": "white",
             "minorgridcolor": "white",
             "startlinecolor": "#2a3f5f"
            },
            "baxis": {
             "endlinecolor": "#2a3f5f",
             "gridcolor": "white",
             "linecolor": "white",
             "minorgridcolor": "white",
             "startlinecolor": "#2a3f5f"
            },
            "type": "carpet"
           }
          ],
          "choropleth": [
           {
            "colorbar": {
             "outlinewidth": 0,
             "ticks": ""
            },
            "type": "choropleth"
           }
          ],
          "contour": [
           {
            "colorbar": {
             "outlinewidth": 0,
             "ticks": ""
            },
            "colorscale": [
             [
              0,
              "#0d0887"
             ],
             [
              0.1111111111111111,
              "#46039f"
             ],
             [
              0.2222222222222222,
              "#7201a8"
             ],
             [
              0.3333333333333333,
              "#9c179e"
             ],
             [
              0.4444444444444444,
              "#bd3786"
             ],
             [
              0.5555555555555556,
              "#d8576b"
             ],
             [
              0.6666666666666666,
              "#ed7953"
             ],
             [
              0.7777777777777778,
              "#fb9f3a"
             ],
             [
              0.8888888888888888,
              "#fdca26"
             ],
             [
              1,
              "#f0f921"
             ]
            ],
            "type": "contour"
           }
          ],
          "contourcarpet": [
           {
            "colorbar": {
             "outlinewidth": 0,
             "ticks": ""
            },
            "type": "contourcarpet"
           }
          ],
          "heatmap": [
           {
            "colorbar": {
             "outlinewidth": 0,
             "ticks": ""
            },
            "colorscale": [
             [
              0,
              "#0d0887"
             ],
             [
              0.1111111111111111,
              "#46039f"
             ],
             [
              0.2222222222222222,
              "#7201a8"
             ],
             [
              0.3333333333333333,
              "#9c179e"
             ],
             [
              0.4444444444444444,
              "#bd3786"
             ],
             [
              0.5555555555555556,
              "#d8576b"
             ],
             [
              0.6666666666666666,
              "#ed7953"
             ],
             [
              0.7777777777777778,
              "#fb9f3a"
             ],
             [
              0.8888888888888888,
              "#fdca26"
             ],
             [
              1,
              "#f0f921"
             ]
            ],
            "type": "heatmap"
           }
          ],
          "heatmapgl": [
           {
            "colorbar": {
             "outlinewidth": 0,
             "ticks": ""
            },
            "colorscale": [
             [
              0,
              "#0d0887"
             ],
             [
              0.1111111111111111,
              "#46039f"
             ],
             [
              0.2222222222222222,
              "#7201a8"
             ],
             [
              0.3333333333333333,
              "#9c179e"
             ],
             [
              0.4444444444444444,
              "#bd3786"
             ],
             [
              0.5555555555555556,
              "#d8576b"
             ],
             [
              0.6666666666666666,
              "#ed7953"
             ],
             [
              0.7777777777777778,
              "#fb9f3a"
             ],
             [
              0.8888888888888888,
              "#fdca26"
             ],
             [
              1,
              "#f0f921"
             ]
            ],
            "type": "heatmapgl"
           }
          ],
          "histogram": [
           {
            "marker": {
             "pattern": {
              "fillmode": "overlay",
              "size": 10,
              "solidity": 0.2
             }
            },
            "type": "histogram"
           }
          ],
          "histogram2d": [
           {
            "colorbar": {
             "outlinewidth": 0,
             "ticks": ""
            },
            "colorscale": [
             [
              0,
              "#0d0887"
             ],
             [
              0.1111111111111111,
              "#46039f"
             ],
             [
              0.2222222222222222,
              "#7201a8"
             ],
             [
              0.3333333333333333,
              "#9c179e"
             ],
             [
              0.4444444444444444,
              "#bd3786"
             ],
             [
              0.5555555555555556,
              "#d8576b"
             ],
             [
              0.6666666666666666,
              "#ed7953"
             ],
             [
              0.7777777777777778,
              "#fb9f3a"
             ],
             [
              0.8888888888888888,
              "#fdca26"
             ],
             [
              1,
              "#f0f921"
             ]
            ],
            "type": "histogram2d"
           }
          ],
          "histogram2dcontour": [
           {
            "colorbar": {
             "outlinewidth": 0,
             "ticks": ""
            },
            "colorscale": [
             [
              0,
              "#0d0887"
             ],
             [
              0.1111111111111111,
              "#46039f"
             ],
             [
              0.2222222222222222,
              "#7201a8"
             ],
             [
              0.3333333333333333,
              "#9c179e"
             ],
             [
              0.4444444444444444,
              "#bd3786"
             ],
             [
              0.5555555555555556,
              "#d8576b"
             ],
             [
              0.6666666666666666,
              "#ed7953"
             ],
             [
              0.7777777777777778,
              "#fb9f3a"
             ],
             [
              0.8888888888888888,
              "#fdca26"
             ],
             [
              1,
              "#f0f921"
             ]
            ],
            "type": "histogram2dcontour"
           }
          ],
          "mesh3d": [
           {
            "colorbar": {
             "outlinewidth": 0,
             "ticks": ""
            },
            "type": "mesh3d"
           }
          ],
          "parcoords": [
           {
            "line": {
             "colorbar": {
              "outlinewidth": 0,
              "ticks": ""
             }
            },
            "type": "parcoords"
           }
          ],
          "pie": [
           {
            "automargin": true,
            "type": "pie"
           }
          ],
          "scatter": [
           {
            "marker": {
             "colorbar": {
              "outlinewidth": 0,
              "ticks": ""
             }
            },
            "type": "scatter"
           }
          ],
          "scatter3d": [
           {
            "line": {
             "colorbar": {
              "outlinewidth": 0,
              "ticks": ""
             }
            },
            "marker": {
             "colorbar": {
              "outlinewidth": 0,
              "ticks": ""
             }
            },
            "type": "scatter3d"
           }
          ],
          "scattercarpet": [
           {
            "marker": {
             "colorbar": {
              "outlinewidth": 0,
              "ticks": ""
             }
            },
            "type": "scattercarpet"
           }
          ],
          "scattergeo": [
           {
            "marker": {
             "colorbar": {
              "outlinewidth": 0,
              "ticks": ""
             }
            },
            "type": "scattergeo"
           }
          ],
          "scattergl": [
           {
            "marker": {
             "colorbar": {
              "outlinewidth": 0,
              "ticks": ""
             }
            },
            "type": "scattergl"
           }
          ],
          "scattermapbox": [
           {
            "marker": {
             "colorbar": {
              "outlinewidth": 0,
              "ticks": ""
             }
            },
            "type": "scattermapbox"
           }
          ],
          "scatterpolar": [
           {
            "marker": {
             "colorbar": {
              "outlinewidth": 0,
              "ticks": ""
             }
            },
            "type": "scatterpolar"
           }
          ],
          "scatterpolargl": [
           {
            "marker": {
             "colorbar": {
              "outlinewidth": 0,
              "ticks": ""
             }
            },
            "type": "scatterpolargl"
           }
          ],
          "scatterternary": [
           {
            "marker": {
             "colorbar": {
              "outlinewidth": 0,
              "ticks": ""
             }
            },
            "type": "scatterternary"
           }
          ],
          "surface": [
           {
            "colorbar": {
             "outlinewidth": 0,
             "ticks": ""
            },
            "colorscale": [
             [
              0,
              "#0d0887"
             ],
             [
              0.1111111111111111,
              "#46039f"
             ],
             [
              0.2222222222222222,
              "#7201a8"
             ],
             [
              0.3333333333333333,
              "#9c179e"
             ],
             [
              0.4444444444444444,
              "#bd3786"
             ],
             [
              0.5555555555555556,
              "#d8576b"
             ],
             [
              0.6666666666666666,
              "#ed7953"
             ],
             [
              0.7777777777777778,
              "#fb9f3a"
             ],
             [
              0.8888888888888888,
              "#fdca26"
             ],
             [
              1,
              "#f0f921"
             ]
            ],
            "type": "surface"
           }
          ],
          "table": [
           {
            "cells": {
             "fill": {
              "color": "#EBF0F8"
             },
             "line": {
              "color": "white"
             }
            },
            "header": {
             "fill": {
              "color": "#C8D4E3"
             },
             "line": {
              "color": "white"
             }
            },
            "type": "table"
           }
          ]
         },
         "layout": {
          "annotationdefaults": {
           "arrowcolor": "#2a3f5f",
           "arrowhead": 0,
           "arrowwidth": 1
          },
          "autotypenumbers": "strict",
          "coloraxis": {
           "colorbar": {
            "outlinewidth": 0,
            "ticks": ""
           }
          },
          "colorscale": {
           "diverging": [
            [
             0,
             "#8e0152"
            ],
            [
             0.1,
             "#c51b7d"
            ],
            [
             0.2,
             "#de77ae"
            ],
            [
             0.3,
             "#f1b6da"
            ],
            [
             0.4,
             "#fde0ef"
            ],
            [
             0.5,
             "#f7f7f7"
            ],
            [
             0.6,
             "#e6f5d0"
            ],
            [
             0.7,
             "#b8e186"
            ],
            [
             0.8,
             "#7fbc41"
            ],
            [
             0.9,
             "#4d9221"
            ],
            [
             1,
             "#276419"
            ]
           ],
           "sequential": [
            [
             0,
             "#0d0887"
            ],
            [
             0.1111111111111111,
             "#46039f"
            ],
            [
             0.2222222222222222,
             "#7201a8"
            ],
            [
             0.3333333333333333,
             "#9c179e"
            ],
            [
             0.4444444444444444,
             "#bd3786"
            ],
            [
             0.5555555555555556,
             "#d8576b"
            ],
            [
             0.6666666666666666,
             "#ed7953"
            ],
            [
             0.7777777777777778,
             "#fb9f3a"
            ],
            [
             0.8888888888888888,
             "#fdca26"
            ],
            [
             1,
             "#f0f921"
            ]
           ],
           "sequentialminus": [
            [
             0,
             "#0d0887"
            ],
            [
             0.1111111111111111,
             "#46039f"
            ],
            [
             0.2222222222222222,
             "#7201a8"
            ],
            [
             0.3333333333333333,
             "#9c179e"
            ],
            [
             0.4444444444444444,
             "#bd3786"
            ],
            [
             0.5555555555555556,
             "#d8576b"
            ],
            [
             0.6666666666666666,
             "#ed7953"
            ],
            [
             0.7777777777777778,
             "#fb9f3a"
            ],
            [
             0.8888888888888888,
             "#fdca26"
            ],
            [
             1,
             "#f0f921"
            ]
           ]
          },
          "colorway": [
           "#636efa",
           "#EF553B",
           "#00cc96",
           "#ab63fa",
           "#FFA15A",
           "#19d3f3",
           "#FF6692",
           "#B6E880",
           "#FF97FF",
           "#FECB52"
          ],
          "font": {
           "color": "#2a3f5f"
          },
          "geo": {
           "bgcolor": "white",
           "lakecolor": "white",
           "landcolor": "#E5ECF6",
           "showlakes": true,
           "showland": true,
           "subunitcolor": "white"
          },
          "hoverlabel": {
           "align": "left"
          },
          "hovermode": "closest",
          "mapbox": {
           "style": "light"
          },
          "paper_bgcolor": "white",
          "plot_bgcolor": "#E5ECF6",
          "polar": {
           "angularaxis": {
            "gridcolor": "white",
            "linecolor": "white",
            "ticks": ""
           },
           "bgcolor": "#E5ECF6",
           "radialaxis": {
            "gridcolor": "white",
            "linecolor": "white",
            "ticks": ""
           }
          },
          "scene": {
           "xaxis": {
            "backgroundcolor": "#E5ECF6",
            "gridcolor": "white",
            "gridwidth": 2,
            "linecolor": "white",
            "showbackground": true,
            "ticks": "",
            "zerolinecolor": "white"
           },
           "yaxis": {
            "backgroundcolor": "#E5ECF6",
            "gridcolor": "white",
            "gridwidth": 2,
            "linecolor": "white",
            "showbackground": true,
            "ticks": "",
            "zerolinecolor": "white"
           },
           "zaxis": {
            "backgroundcolor": "#E5ECF6",
            "gridcolor": "white",
            "gridwidth": 2,
            "linecolor": "white",
            "showbackground": true,
            "ticks": "",
            "zerolinecolor": "white"
           }
          },
          "shapedefaults": {
           "line": {
            "color": "#2a3f5f"
           }
          },
          "ternary": {
           "aaxis": {
            "gridcolor": "white",
            "linecolor": "white",
            "ticks": ""
           },
           "baxis": {
            "gridcolor": "white",
            "linecolor": "white",
            "ticks": ""
           },
           "bgcolor": "#E5ECF6",
           "caxis": {
            "gridcolor": "white",
            "linecolor": "white",
            "ticks": ""
           }
          },
          "title": {
           "x": 0.05
          },
          "xaxis": {
           "automargin": true,
           "gridcolor": "white",
           "linecolor": "white",
           "ticks": "",
           "title": {
            "standoff": 15
           },
           "zerolinecolor": "white",
           "zerolinewidth": 2
          },
          "yaxis": {
           "automargin": true,
           "gridcolor": "white",
           "linecolor": "white",
           "ticks": "",
           "title": {
            "standoff": 15
           },
           "zerolinecolor": "white",
           "zerolinewidth": 2
          }
         }
        },
        "title": {
         "text": "Parallel Coordinate Plot"
        }
       }
      }
     },
     "metadata": {},
     "output_type": "display_data"
    }
   ],
   "source": [
    "plot_parallel_coordinate(study)"
   ]
  },
  {
   "cell_type": "code",
   "execution_count": null,
   "metadata": {},
   "outputs": [
    {
     "data": {
      "application/vnd.plotly.v1+json": {
       "config": {
        "plotlyServerURL": "https://plot.ly"
       },
       "data": [
        {
         "cliponaxis": false,
         "hovertemplate": [
          "colsample_bylevel (CategoricalDistribution): 0.004806942021350014<extra></extra>",
          "colsample_bytree (CategoricalDistribution): 0.007626719638645196<extra></extra>",
          "subsample (CategoricalDistribution): 0.011474265108462618<extra></extra>",
          "lambda (FloatDistribution): 0.011814984562233849<extra></extra>",
          "learning_rate (FloatDistribution): 0.0169125056221704<extra></extra>",
          "alpha (FloatDistribution): 0.022950192148384986<extra></extra>",
          "n_estimators (CategoricalDistribution): 0.033210431077585575<extra></extra>",
          "max_depth (IntDistribution): 0.037957378158696514<extra></extra>",
          "min_child_weight (IntDistribution): 0.8532465816624709<extra></extra>"
         ],
         "marker": {
          "color": "rgb(66,146,198)"
         },
         "orientation": "h",
         "text": [
          "<0.01",
          "<0.01",
          "0.01",
          "0.01",
          "0.02",
          "0.02",
          "0.03",
          "0.04",
          "0.85"
         ],
         "textposition": "outside",
         "type": "bar",
         "x": [
          0.004806942021350014,
          0.007626719638645196,
          0.011474265108462618,
          0.011814984562233849,
          0.0169125056221704,
          0.022950192148384986,
          0.033210431077585575,
          0.037957378158696514,
          0.8532465816624709
         ],
         "y": [
          "colsample_bylevel",
          "colsample_bytree",
          "subsample",
          "lambda",
          "learning_rate",
          "alpha",
          "n_estimators",
          "max_depth",
          "min_child_weight"
         ]
        }
       ],
       "layout": {
        "showlegend": false,
        "template": {
         "data": {
          "bar": [
           {
            "error_x": {
             "color": "#2a3f5f"
            },
            "error_y": {
             "color": "#2a3f5f"
            },
            "marker": {
             "line": {
              "color": "#E5ECF6",
              "width": 0.5
             },
             "pattern": {
              "fillmode": "overlay",
              "size": 10,
              "solidity": 0.2
             }
            },
            "type": "bar"
           }
          ],
          "barpolar": [
           {
            "marker": {
             "line": {
              "color": "#E5ECF6",
              "width": 0.5
             },
             "pattern": {
              "fillmode": "overlay",
              "size": 10,
              "solidity": 0.2
             }
            },
            "type": "barpolar"
           }
          ],
          "carpet": [
           {
            "aaxis": {
             "endlinecolor": "#2a3f5f",
             "gridcolor": "white",
             "linecolor": "white",
             "minorgridcolor": "white",
             "startlinecolor": "#2a3f5f"
            },
            "baxis": {
             "endlinecolor": "#2a3f5f",
             "gridcolor": "white",
             "linecolor": "white",
             "minorgridcolor": "white",
             "startlinecolor": "#2a3f5f"
            },
            "type": "carpet"
           }
          ],
          "choropleth": [
           {
            "colorbar": {
             "outlinewidth": 0,
             "ticks": ""
            },
            "type": "choropleth"
           }
          ],
          "contour": [
           {
            "colorbar": {
             "outlinewidth": 0,
             "ticks": ""
            },
            "colorscale": [
             [
              0,
              "#0d0887"
             ],
             [
              0.1111111111111111,
              "#46039f"
             ],
             [
              0.2222222222222222,
              "#7201a8"
             ],
             [
              0.3333333333333333,
              "#9c179e"
             ],
             [
              0.4444444444444444,
              "#bd3786"
             ],
             [
              0.5555555555555556,
              "#d8576b"
             ],
             [
              0.6666666666666666,
              "#ed7953"
             ],
             [
              0.7777777777777778,
              "#fb9f3a"
             ],
             [
              0.8888888888888888,
              "#fdca26"
             ],
             [
              1,
              "#f0f921"
             ]
            ],
            "type": "contour"
           }
          ],
          "contourcarpet": [
           {
            "colorbar": {
             "outlinewidth": 0,
             "ticks": ""
            },
            "type": "contourcarpet"
           }
          ],
          "heatmap": [
           {
            "colorbar": {
             "outlinewidth": 0,
             "ticks": ""
            },
            "colorscale": [
             [
              0,
              "#0d0887"
             ],
             [
              0.1111111111111111,
              "#46039f"
             ],
             [
              0.2222222222222222,
              "#7201a8"
             ],
             [
              0.3333333333333333,
              "#9c179e"
             ],
             [
              0.4444444444444444,
              "#bd3786"
             ],
             [
              0.5555555555555556,
              "#d8576b"
             ],
             [
              0.6666666666666666,
              "#ed7953"
             ],
             [
              0.7777777777777778,
              "#fb9f3a"
             ],
             [
              0.8888888888888888,
              "#fdca26"
             ],
             [
              1,
              "#f0f921"
             ]
            ],
            "type": "heatmap"
           }
          ],
          "heatmapgl": [
           {
            "colorbar": {
             "outlinewidth": 0,
             "ticks": ""
            },
            "colorscale": [
             [
              0,
              "#0d0887"
             ],
             [
              0.1111111111111111,
              "#46039f"
             ],
             [
              0.2222222222222222,
              "#7201a8"
             ],
             [
              0.3333333333333333,
              "#9c179e"
             ],
             [
              0.4444444444444444,
              "#bd3786"
             ],
             [
              0.5555555555555556,
              "#d8576b"
             ],
             [
              0.6666666666666666,
              "#ed7953"
             ],
             [
              0.7777777777777778,
              "#fb9f3a"
             ],
             [
              0.8888888888888888,
              "#fdca26"
             ],
             [
              1,
              "#f0f921"
             ]
            ],
            "type": "heatmapgl"
           }
          ],
          "histogram": [
           {
            "marker": {
             "pattern": {
              "fillmode": "overlay",
              "size": 10,
              "solidity": 0.2
             }
            },
            "type": "histogram"
           }
          ],
          "histogram2d": [
           {
            "colorbar": {
             "outlinewidth": 0,
             "ticks": ""
            },
            "colorscale": [
             [
              0,
              "#0d0887"
             ],
             [
              0.1111111111111111,
              "#46039f"
             ],
             [
              0.2222222222222222,
              "#7201a8"
             ],
             [
              0.3333333333333333,
              "#9c179e"
             ],
             [
              0.4444444444444444,
              "#bd3786"
             ],
             [
              0.5555555555555556,
              "#d8576b"
             ],
             [
              0.6666666666666666,
              "#ed7953"
             ],
             [
              0.7777777777777778,
              "#fb9f3a"
             ],
             [
              0.8888888888888888,
              "#fdca26"
             ],
             [
              1,
              "#f0f921"
             ]
            ],
            "type": "histogram2d"
           }
          ],
          "histogram2dcontour": [
           {
            "colorbar": {
             "outlinewidth": 0,
             "ticks": ""
            },
            "colorscale": [
             [
              0,
              "#0d0887"
             ],
             [
              0.1111111111111111,
              "#46039f"
             ],
             [
              0.2222222222222222,
              "#7201a8"
             ],
             [
              0.3333333333333333,
              "#9c179e"
             ],
             [
              0.4444444444444444,
              "#bd3786"
             ],
             [
              0.5555555555555556,
              "#d8576b"
             ],
             [
              0.6666666666666666,
              "#ed7953"
             ],
             [
              0.7777777777777778,
              "#fb9f3a"
             ],
             [
              0.8888888888888888,
              "#fdca26"
             ],
             [
              1,
              "#f0f921"
             ]
            ],
            "type": "histogram2dcontour"
           }
          ],
          "mesh3d": [
           {
            "colorbar": {
             "outlinewidth": 0,
             "ticks": ""
            },
            "type": "mesh3d"
           }
          ],
          "parcoords": [
           {
            "line": {
             "colorbar": {
              "outlinewidth": 0,
              "ticks": ""
             }
            },
            "type": "parcoords"
           }
          ],
          "pie": [
           {
            "automargin": true,
            "type": "pie"
           }
          ],
          "scatter": [
           {
            "marker": {
             "colorbar": {
              "outlinewidth": 0,
              "ticks": ""
             }
            },
            "type": "scatter"
           }
          ],
          "scatter3d": [
           {
            "line": {
             "colorbar": {
              "outlinewidth": 0,
              "ticks": ""
             }
            },
            "marker": {
             "colorbar": {
              "outlinewidth": 0,
              "ticks": ""
             }
            },
            "type": "scatter3d"
           }
          ],
          "scattercarpet": [
           {
            "marker": {
             "colorbar": {
              "outlinewidth": 0,
              "ticks": ""
             }
            },
            "type": "scattercarpet"
           }
          ],
          "scattergeo": [
           {
            "marker": {
             "colorbar": {
              "outlinewidth": 0,
              "ticks": ""
             }
            },
            "type": "scattergeo"
           }
          ],
          "scattergl": [
           {
            "marker": {
             "colorbar": {
              "outlinewidth": 0,
              "ticks": ""
             }
            },
            "type": "scattergl"
           }
          ],
          "scattermapbox": [
           {
            "marker": {
             "colorbar": {
              "outlinewidth": 0,
              "ticks": ""
             }
            },
            "type": "scattermapbox"
           }
          ],
          "scatterpolar": [
           {
            "marker": {
             "colorbar": {
              "outlinewidth": 0,
              "ticks": ""
             }
            },
            "type": "scatterpolar"
           }
          ],
          "scatterpolargl": [
           {
            "marker": {
             "colorbar": {
              "outlinewidth": 0,
              "ticks": ""
             }
            },
            "type": "scatterpolargl"
           }
          ],
          "scatterternary": [
           {
            "marker": {
             "colorbar": {
              "outlinewidth": 0,
              "ticks": ""
             }
            },
            "type": "scatterternary"
           }
          ],
          "surface": [
           {
            "colorbar": {
             "outlinewidth": 0,
             "ticks": ""
            },
            "colorscale": [
             [
              0,
              "#0d0887"
             ],
             [
              0.1111111111111111,
              "#46039f"
             ],
             [
              0.2222222222222222,
              "#7201a8"
             ],
             [
              0.3333333333333333,
              "#9c179e"
             ],
             [
              0.4444444444444444,
              "#bd3786"
             ],
             [
              0.5555555555555556,
              "#d8576b"
             ],
             [
              0.6666666666666666,
              "#ed7953"
             ],
             [
              0.7777777777777778,
              "#fb9f3a"
             ],
             [
              0.8888888888888888,
              "#fdca26"
             ],
             [
              1,
              "#f0f921"
             ]
            ],
            "type": "surface"
           }
          ],
          "table": [
           {
            "cells": {
             "fill": {
              "color": "#EBF0F8"
             },
             "line": {
              "color": "white"
             }
            },
            "header": {
             "fill": {
              "color": "#C8D4E3"
             },
             "line": {
              "color": "white"
             }
            },
            "type": "table"
           }
          ]
         },
         "layout": {
          "annotationdefaults": {
           "arrowcolor": "#2a3f5f",
           "arrowhead": 0,
           "arrowwidth": 1
          },
          "autotypenumbers": "strict",
          "coloraxis": {
           "colorbar": {
            "outlinewidth": 0,
            "ticks": ""
           }
          },
          "colorscale": {
           "diverging": [
            [
             0,
             "#8e0152"
            ],
            [
             0.1,
             "#c51b7d"
            ],
            [
             0.2,
             "#de77ae"
            ],
            [
             0.3,
             "#f1b6da"
            ],
            [
             0.4,
             "#fde0ef"
            ],
            [
             0.5,
             "#f7f7f7"
            ],
            [
             0.6,
             "#e6f5d0"
            ],
            [
             0.7,
             "#b8e186"
            ],
            [
             0.8,
             "#7fbc41"
            ],
            [
             0.9,
             "#4d9221"
            ],
            [
             1,
             "#276419"
            ]
           ],
           "sequential": [
            [
             0,
             "#0d0887"
            ],
            [
             0.1111111111111111,
             "#46039f"
            ],
            [
             0.2222222222222222,
             "#7201a8"
            ],
            [
             0.3333333333333333,
             "#9c179e"
            ],
            [
             0.4444444444444444,
             "#bd3786"
            ],
            [
             0.5555555555555556,
             "#d8576b"
            ],
            [
             0.6666666666666666,
             "#ed7953"
            ],
            [
             0.7777777777777778,
             "#fb9f3a"
            ],
            [
             0.8888888888888888,
             "#fdca26"
            ],
            [
             1,
             "#f0f921"
            ]
           ],
           "sequentialminus": [
            [
             0,
             "#0d0887"
            ],
            [
             0.1111111111111111,
             "#46039f"
            ],
            [
             0.2222222222222222,
             "#7201a8"
            ],
            [
             0.3333333333333333,
             "#9c179e"
            ],
            [
             0.4444444444444444,
             "#bd3786"
            ],
            [
             0.5555555555555556,
             "#d8576b"
            ],
            [
             0.6666666666666666,
             "#ed7953"
            ],
            [
             0.7777777777777778,
             "#fb9f3a"
            ],
            [
             0.8888888888888888,
             "#fdca26"
            ],
            [
             1,
             "#f0f921"
            ]
           ]
          },
          "colorway": [
           "#636efa",
           "#EF553B",
           "#00cc96",
           "#ab63fa",
           "#FFA15A",
           "#19d3f3",
           "#FF6692",
           "#B6E880",
           "#FF97FF",
           "#FECB52"
          ],
          "font": {
           "color": "#2a3f5f"
          },
          "geo": {
           "bgcolor": "white",
           "lakecolor": "white",
           "landcolor": "#E5ECF6",
           "showlakes": true,
           "showland": true,
           "subunitcolor": "white"
          },
          "hoverlabel": {
           "align": "left"
          },
          "hovermode": "closest",
          "mapbox": {
           "style": "light"
          },
          "paper_bgcolor": "white",
          "plot_bgcolor": "#E5ECF6",
          "polar": {
           "angularaxis": {
            "gridcolor": "white",
            "linecolor": "white",
            "ticks": ""
           },
           "bgcolor": "#E5ECF6",
           "radialaxis": {
            "gridcolor": "white",
            "linecolor": "white",
            "ticks": ""
           }
          },
          "scene": {
           "xaxis": {
            "backgroundcolor": "#E5ECF6",
            "gridcolor": "white",
            "gridwidth": 2,
            "linecolor": "white",
            "showbackground": true,
            "ticks": "",
            "zerolinecolor": "white"
           },
           "yaxis": {
            "backgroundcolor": "#E5ECF6",
            "gridcolor": "white",
            "gridwidth": 2,
            "linecolor": "white",
            "showbackground": true,
            "ticks": "",
            "zerolinecolor": "white"
           },
           "zaxis": {
            "backgroundcolor": "#E5ECF6",
            "gridcolor": "white",
            "gridwidth": 2,
            "linecolor": "white",
            "showbackground": true,
            "ticks": "",
            "zerolinecolor": "white"
           }
          },
          "shapedefaults": {
           "line": {
            "color": "#2a3f5f"
           }
          },
          "ternary": {
           "aaxis": {
            "gridcolor": "white",
            "linecolor": "white",
            "ticks": ""
           },
           "baxis": {
            "gridcolor": "white",
            "linecolor": "white",
            "ticks": ""
           },
           "bgcolor": "#E5ECF6",
           "caxis": {
            "gridcolor": "white",
            "linecolor": "white",
            "ticks": ""
           }
          },
          "title": {
           "x": 0.05
          },
          "xaxis": {
           "automargin": true,
           "gridcolor": "white",
           "linecolor": "white",
           "ticks": "",
           "title": {
            "standoff": 15
           },
           "zerolinecolor": "white",
           "zerolinewidth": 2
          },
          "yaxis": {
           "automargin": true,
           "gridcolor": "white",
           "linecolor": "white",
           "ticks": "",
           "title": {
            "standoff": 15
           },
           "zerolinecolor": "white",
           "zerolinewidth": 2
          }
         }
        },
        "title": {
         "text": "Hyperparameter Importances"
        },
        "xaxis": {
         "title": {
          "text": "Importance for Objective Value"
         }
        },
        "yaxis": {
         "title": {
          "text": "Hyperparameter"
         }
        }
       }
      }
     },
     "metadata": {},
     "output_type": "display_data"
    }
   ],
   "source": [
    "plot_param_importances(study)"
   ]
  },
  {
   "cell_type": "code",
   "execution_count": 9,
   "metadata": {},
   "outputs": [
    {
     "name": "stdout",
     "output_type": "stream",
     "text": [
      "F1: 0.78631 ± 0.00667\n"
     ]
    },
    {
     "data": {
      "text/plain": [
       "0.7863076894732689"
      ]
     },
     "execution_count": 9,
     "metadata": {},
     "output_type": "execute_result"
    },
    {
     "data": {
      "image/png": "[encoded data removed]",
      "text/plain": [
       "<Figure size 432x288 with 2 Axes>"
      ]
     },
     "metadata": {
      "needs_background": "light"
     },
     "output_type": "display_data"
    }
   ],
   "source": [
    "# model = RandomForestClassifier(\n",
    "#     **{\n",
    "#         'bootstrap': False,\n",
    "#         'max_depth': 150,\n",
    "#         'max_features': 'sqrt',\n",
    "#         'min_samples_leaf': 1,\n",
    "#         'min_samples_split': 7,\n",
    "#         'n_estimators': 1000\n",
    "#     },\n",
    "#     random_state=SEED\n",
    "# )\n",
    "\n",
    "# model = XGBClassifier(\n",
    "#     **{\n",
    "#         'lambda': 8.204888056119929,\n",
    "#         'alpha': 1.602247689318723,\n",
    "#         'colsample_bytree': 0.7,\n",
    "#         'colsample_bylevel': 1.0,\n",
    "#         'subsample': 0.9,\n",
    "#         'learning_rate': 0.37830598406476423,\n",
    "#         'n_estimators': 500,\n",
    "#         'max_depth': 13,\n",
    "#         'min_child_weight': 3\n",
    "#     },\n",
    "#     objective=\"multi:softproba\",\n",
    "#     tree_method=\"auto\",\n",
    "#     random_state=SEED,\n",
    "# )\n",
    "\n",
    "# model = KNeighborsClassifier(\n",
    "#     **{'n_neighbors': 21, 'weights': 'distance', 'leaf_size': 59}\n",
    "# )\n",
    "\n",
    "# model = SVC(\n",
    "#     **{'C': 44.323830214854965, 'kernel': 'rbf', 'gamma': 'scale'}\n",
    "# )\n",
    "\n",
    "# model = MLPClassifier(\n",
    "#     **{\n",
    "#         \"hidden_layer_sizes\": (32, 128, 32),\n",
    "#         'activation': 'relu',\n",
    "#         'alpha': 0.004899987485256258,\n",
    "#         'learning_rate': 'constant',\n",
    "#         'learning_rate_init': 0.005383029783625564,\n",
    "#         \"max_iter\": 1000,\n",
    "#         \"random_state\": SEED,\n",
    "#         \"early_stopping\": True\n",
    "#     }\n",
    "# )\n",
    "\n",
    "# model = RidgeClassifier(alpha=10)\n",
    "\n",
    "solver.train(model)"
   ]
  },
  {
   "cell_type": "markdown",
   "metadata": {},
   "source": [
    "### True class distribution\n",
    "Class 0 occupies 59.21438%  \n",
    "Class 1 occupies 8.65742%  \n",
    "Class 2 occupies 28.80594%  \n",
    "Class 3 occupies 3.32226%"
   ]
  },
  {
   "cell_type": "code",
   "execution_count": 116,
   "metadata": {},
   "outputs": [],
   "source": [
    "solver.predict_test(model)"
   ]
  },
  {
   "cell_type": "code",
   "execution_count": null,
   "metadata": {},
   "outputs": [],
   "source": []
  }
 ],
 "metadata": {
  "kernelspec": {
   "display_name": "Python 3.9.12 ('base')",
   "language": "python",
   "name": "python3"
  },
  "language_info": {
   "codemirror_mode": {
    "name": "ipython",
    "version": 3
   },
   "file_extension": ".py",
   "mimetype": "text/x-python",
   "name": "python",
   "nbconvert_exporter": "python",
   "pygments_lexer": "ipython3",
   "version": "3.9.12"
  },
  "orig_nbformat": 4,
  "vscode": {
   "interpreter": {
    "hash": "40a2a61b844a78677911c3db6913e873dff55901a7bd176292f88bd2828d7d3a"
   }
  }
 },
 "nbformat": 4,
 "nbformat_minor": 2
}
